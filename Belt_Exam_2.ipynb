{
  "nbformat": 4,
  "nbformat_minor": 0,
  "metadata": {
    "colab": {
      "name": "Belt Exam 2",
      "provenance": [],
      "toc_visible": true,
      "authorship_tag": "ABX9TyPqud238bQCm78lrw/+oLQS",
      "include_colab_link": true
    },
    "kernelspec": {
      "name": "python3",
      "display_name": "Python 3"
    },
    "language_info": {
      "name": "python"
    }
  },
  "cells": [
    {
      "cell_type": "markdown",
      "metadata": {
        "id": "view-in-github",
        "colab_type": "text"
      },
      "source": [
        "<a href=\"https://colab.research.google.com/github/Neoneto/Coding_Dojo_Week8/blob/main/Belt_Exam_2.ipynb\" target=\"_parent\"><img src=\"https://colab.research.google.com/assets/colab-badge.svg\" alt=\"Open In Colab\"/></a>"
      ]
    },
    {
      "cell_type": "markdown",
      "source": [
        "#Coding Dojo Belt Exam 2\n",
        "## Stack 2 - Machine Learning\n",
        "Submitted by Kenneth Alaba"
      ],
      "metadata": {
        "id": "iV3uL5UZSM9q"
      }
    },
    {
      "cell_type": "markdown",
      "source": [
        "## Import Libraries"
      ],
      "metadata": {
        "id": "mirOUXbXTawq"
      }
    },
    {
      "cell_type": "code",
      "execution_count": 118,
      "metadata": {
        "id": "q3wc0gY3SJJU"
      },
      "outputs": [],
      "source": [
        "# Import libraries\n",
        "\n",
        "import pandas as pd\n",
        "import numpy as np\n",
        "import matplotlib.pyplot as plt\n",
        "import seaborn as sns\n",
        "\n",
        "from sklearn.model_selection import train_test_split\n",
        "from sklearn.pipeline import make_pipeline\n",
        "from sklearn.linear_model import LinearRegression\n",
        "from sklearn.impute import SimpleImputer\n",
        "from sklearn.model_selection import train_test_split\n",
        "from sklearn.metrics import r2_score\n",
        "from sklearn.compose import make_column_selector, make_column_transformer\n",
        "from sklearn.preprocessing import OneHotEncoder\n",
        "from sklearn.preprocessing import StandardScaler\n",
        "from sklearn.neighbors import KNeighborsClassifier\n",
        "from sklearn.tree import DecisionTreeClassifier\n",
        "from sklearn.ensemble import BaggingClassifier\n",
        "from sklearn.ensemble import RandomForestClassifier\n",
        "from sklearn.ensemble import GradientBoostingClassifier\n",
        "from sklearn.metrics import plot_confusion_matrix\n",
        "from sklearn.metrics import accuracy_score, precision_score, recall_score, classification_report, confusion_matrix,roc_auc_score, plot_roc_curve"
      ]
    },
    {
      "cell_type": "markdown",
      "source": [
        "# Loading the dataset"
      ],
      "metadata": {
        "id": "C3C0ucUeTl3A"
      }
    },
    {
      "cell_type": "code",
      "source": [
        "# mount google drive\n",
        "from google.colab import drive\n",
        "drive.mount('/content/drive')\n",
        "\n",
        "# open file\n",
        "filename = '/content/drive/My Drive/Coding Dojo/Belt Exam 2/Belt2_A_drugtype_v2_final.csv'\n",
        "df0 = pd.read_csv(filename,)\n",
        "df0.head()"
      ],
      "metadata": {
        "colab": {
          "base_uri": "https://localhost:8080/",
          "height": 0
        },
        "id": "Eaf5lr7tUGTn",
        "outputId": "5ad5dfea-f943-4e12-e549-87d80a9b2725"
      },
      "execution_count": 2,
      "outputs": [
        {
          "output_type": "stream",
          "name": "stdout",
          "text": [
            "Mounted at /content/drive\n"
          ]
        },
        {
          "output_type": "execute_result",
          "data": {
            "text/html": [
              "\n",
              "  <div id=\"df-e98de9bc-5797-4042-8fc6-1762b43cc6f2\">\n",
              "    <div class=\"colab-df-container\">\n",
              "      <div>\n",
              "<style scoped>\n",
              "    .dataframe tbody tr th:only-of-type {\n",
              "        vertical-align: middle;\n",
              "    }\n",
              "\n",
              "    .dataframe tbody tr th {\n",
              "        vertical-align: top;\n",
              "    }\n",
              "\n",
              "    .dataframe thead th {\n",
              "        text-align: right;\n",
              "    }\n",
              "</style>\n",
              "<table border=\"1\" class=\"dataframe\">\n",
              "  <thead>\n",
              "    <tr style=\"text-align: right;\">\n",
              "      <th></th>\n",
              "      <th>Age</th>\n",
              "      <th>Gender</th>\n",
              "      <th>BP</th>\n",
              "      <th>Cholesterol</th>\n",
              "      <th>Na_to_K</th>\n",
              "      <th>Drug</th>\n",
              "    </tr>\n",
              "  </thead>\n",
              "  <tbody>\n",
              "    <tr>\n",
              "      <th>0</th>\n",
              "      <td>59.0</td>\n",
              "      <td>M</td>\n",
              "      <td>High</td>\n",
              "      <td>HIGH</td>\n",
              "      <td>13.935</td>\n",
              "      <td>drugQ</td>\n",
              "    </tr>\n",
              "    <tr>\n",
              "      <th>1</th>\n",
              "      <td>40.0</td>\n",
              "      <td>F</td>\n",
              "      <td>Normal</td>\n",
              "      <td>HIGH</td>\n",
              "      <td>10.103</td>\n",
              "      <td>drugZ</td>\n",
              "    </tr>\n",
              "    <tr>\n",
              "      <th>2</th>\n",
              "      <td>NaN</td>\n",
              "      <td>M</td>\n",
              "      <td>Normal</td>\n",
              "      <td>HIGH</td>\n",
              "      <td>9.084</td>\n",
              "      <td>drugZ</td>\n",
              "    </tr>\n",
              "    <tr>\n",
              "      <th>3</th>\n",
              "      <td>62.0</td>\n",
              "      <td>M</td>\n",
              "      <td>Normal</td>\n",
              "      <td>HIGH</td>\n",
              "      <td>16.594</td>\n",
              "      <td>drugZ</td>\n",
              "    </tr>\n",
              "    <tr>\n",
              "      <th>4</th>\n",
              "      <td>55.0</td>\n",
              "      <td>F</td>\n",
              "      <td>High</td>\n",
              "      <td>NORMAL</td>\n",
              "      <td>10.977</td>\n",
              "      <td>drugQ</td>\n",
              "    </tr>\n",
              "  </tbody>\n",
              "</table>\n",
              "</div>\n",
              "      <button class=\"colab-df-convert\" onclick=\"convertToInteractive('df-e98de9bc-5797-4042-8fc6-1762b43cc6f2')\"\n",
              "              title=\"Convert this dataframe to an interactive table.\"\n",
              "              style=\"display:none;\">\n",
              "        \n",
              "  <svg xmlns=\"http://www.w3.org/2000/svg\" height=\"24px\"viewBox=\"0 0 24 24\"\n",
              "       width=\"24px\">\n",
              "    <path d=\"M0 0h24v24H0V0z\" fill=\"none\"/>\n",
              "    <path d=\"M18.56 5.44l.94 2.06.94-2.06 2.06-.94-2.06-.94-.94-2.06-.94 2.06-2.06.94zm-11 1L8.5 8.5l.94-2.06 2.06-.94-2.06-.94L8.5 2.5l-.94 2.06-2.06.94zm10 10l.94 2.06.94-2.06 2.06-.94-2.06-.94-.94-2.06-.94 2.06-2.06.94z\"/><path d=\"M17.41 7.96l-1.37-1.37c-.4-.4-.92-.59-1.43-.59-.52 0-1.04.2-1.43.59L10.3 9.45l-7.72 7.72c-.78.78-.78 2.05 0 2.83L4 21.41c.39.39.9.59 1.41.59.51 0 1.02-.2 1.41-.59l7.78-7.78 2.81-2.81c.8-.78.8-2.07 0-2.86zM5.41 20L4 18.59l7.72-7.72 1.47 1.35L5.41 20z\"/>\n",
              "  </svg>\n",
              "      </button>\n",
              "      \n",
              "  <style>\n",
              "    .colab-df-container {\n",
              "      display:flex;\n",
              "      flex-wrap:wrap;\n",
              "      gap: 12px;\n",
              "    }\n",
              "\n",
              "    .colab-df-convert {\n",
              "      background-color: #E8F0FE;\n",
              "      border: none;\n",
              "      border-radius: 50%;\n",
              "      cursor: pointer;\n",
              "      display: none;\n",
              "      fill: #1967D2;\n",
              "      height: 32px;\n",
              "      padding: 0 0 0 0;\n",
              "      width: 32px;\n",
              "    }\n",
              "\n",
              "    .colab-df-convert:hover {\n",
              "      background-color: #E2EBFA;\n",
              "      box-shadow: 0px 1px 2px rgba(60, 64, 67, 0.3), 0px 1px 3px 1px rgba(60, 64, 67, 0.15);\n",
              "      fill: #174EA6;\n",
              "    }\n",
              "\n",
              "    [theme=dark] .colab-df-convert {\n",
              "      background-color: #3B4455;\n",
              "      fill: #D2E3FC;\n",
              "    }\n",
              "\n",
              "    [theme=dark] .colab-df-convert:hover {\n",
              "      background-color: #434B5C;\n",
              "      box-shadow: 0px 1px 3px 1px rgba(0, 0, 0, 0.15);\n",
              "      filter: drop-shadow(0px 1px 2px rgba(0, 0, 0, 0.3));\n",
              "      fill: #FFFFFF;\n",
              "    }\n",
              "  </style>\n",
              "\n",
              "      <script>\n",
              "        const buttonEl =\n",
              "          document.querySelector('#df-e98de9bc-5797-4042-8fc6-1762b43cc6f2 button.colab-df-convert');\n",
              "        buttonEl.style.display =\n",
              "          google.colab.kernel.accessAllowed ? 'block' : 'none';\n",
              "\n",
              "        async function convertToInteractive(key) {\n",
              "          const element = document.querySelector('#df-e98de9bc-5797-4042-8fc6-1762b43cc6f2');\n",
              "          const dataTable =\n",
              "            await google.colab.kernel.invokeFunction('convertToInteractive',\n",
              "                                                     [key], {});\n",
              "          if (!dataTable) return;\n",
              "\n",
              "          const docLinkHtml = 'Like what you see? Visit the ' +\n",
              "            '<a target=\"_blank\" href=https://colab.research.google.com/notebooks/data_table.ipynb>data table notebook</a>'\n",
              "            + ' to learn more about interactive tables.';\n",
              "          element.innerHTML = '';\n",
              "          dataTable['output_type'] = 'display_data';\n",
              "          await google.colab.output.renderOutput(dataTable, element);\n",
              "          const docLink = document.createElement('div');\n",
              "          docLink.innerHTML = docLinkHtml;\n",
              "          element.appendChild(docLink);\n",
              "        }\n",
              "      </script>\n",
              "    </div>\n",
              "  </div>\n",
              "  "
            ],
            "text/plain": [
              "    Age Gender      BP Cholesterol Na_to_K   Drug\n",
              "0  59.0      M    High        HIGH  13.935  drugQ\n",
              "1  40.0      F  Normal        HIGH  10.103  drugZ\n",
              "2   NaN      M  Normal        HIGH   9.084  drugZ\n",
              "3  62.0      M  Normal        HIGH  16.594  drugZ\n",
              "4  55.0      F    High      NORMAL  10.977  drugQ"
            ]
          },
          "metadata": {},
          "execution_count": 2
        }
      ]
    },
    {
      "cell_type": "code",
      "source": [
        "# Show the dataframe info\n",
        "df0.info()"
      ],
      "metadata": {
        "colab": {
          "base_uri": "https://localhost:8080/"
        },
        "id": "tVJHXblXVJni",
        "outputId": "9a31891f-ff3b-4ce7-8fca-7e1e3ca3c2c1"
      },
      "execution_count": 3,
      "outputs": [
        {
          "output_type": "stream",
          "name": "stdout",
          "text": [
            "<class 'pandas.core.frame.DataFrame'>\n",
            "RangeIndex: 296 entries, 0 to 295\n",
            "Data columns (total 6 columns):\n",
            " #   Column       Non-Null Count  Dtype  \n",
            "---  ------       --------------  -----  \n",
            " 0   Age          237 non-null    float64\n",
            " 1   Gender       296 non-null    object \n",
            " 2   BP           221 non-null    object \n",
            " 3   Cholesterol  296 non-null    object \n",
            " 4   Na_to_K      296 non-null    object \n",
            " 5   Drug         296 non-null    object \n",
            "dtypes: float64(1), object(5)\n",
            "memory usage: 14.0+ KB\n"
          ]
        }
      ]
    },
    {
      "cell_type": "markdown",
      "source": [
        "# Fixing Inconsistencies\n",
        "Since I will be imputing missing values based on the entries in the other rows, I want to clean the data first more specifically, fixing inconsistencies."
      ],
      "metadata": {
        "id": "y5F4Q1NmUwo3"
      }
    },
    {
      "cell_type": "code",
      "source": [
        "# Copy the dataframe\n",
        "# Apply changes to the copy and keep the original\n",
        "df = df0.copy()"
      ],
      "metadata": {
        "id": "D0eqa8G2VPsu"
      },
      "execution_count": 4,
      "outputs": []
    },
    {
      "cell_type": "code",
      "source": [
        "# Print unique values in each categorical column\n",
        "for c_name in df.columns:\n",
        "  if df[c_name].dtypes == 'object':\n",
        "    print(c_name)\n",
        "    print(df[c_name].unique())"
      ],
      "metadata": {
        "colab": {
          "base_uri": "https://localhost:8080/"
        },
        "id": "VMJzVZIrVCB5",
        "outputId": "e09f010d-307d-42aa-a738-77d28f7b1df5"
      },
      "execution_count": 5,
      "outputs": [
        {
          "output_type": "stream",
          "name": "stdout",
          "text": [
            "Gender\n",
            "['M' 'F' 'male' 'female' 'Female' 'Male' 'femal' 'Femal']\n",
            "BP\n",
            "['High' 'Normal' nan 'Low']\n",
            "Cholesterol\n",
            "['HIGH' 'NORMAL' 'NORM' 'norm' 'high']\n",
            "Na_to_K\n",
            "['13.935' '10.103' '9.084' '16.594' '10.977' '25.475' '9.17' '13.303'\n",
            " '11.009' '25.917' '18.295' '11.34' '28.632' '9.567' '7.49' '17.069'\n",
            " '15.478' '12.894' '8.011' '27.183' '9.281' '9.443' '17.225' '24.276'\n",
            " '8.37' '25.893' '9.664' '10.292' '19.011' '11.326' '13.967' '11.953'\n",
            " '13.091' '14.239' '34.686' '11.227' '18.043' '10.189' '11.198' '11.686'\n",
            " '20.489' '18.809' '30.366' '20.942' '11.262' '18.991' '15.015' '11.871'\n",
            " '13.769' '12.854' '25.969' '29.271' '7.285' '9.514' '9.709' '31.686'\n",
            " '12.856' '13.934' '15.516' '19.007' '12.495' '22.818' '16.725' '14.133'\n",
            " '17.211' '17.951' '19.128' '30.568' '22.905' '12.307' '28.294' '25.974'\n",
            " '38.247' '16.753' '22.456' '27.05' '13.938' '8.75' '13.972' '19.675'\n",
            " '32.922' '10.091' '16.275' '8.107' '10.443' '11.455' '16.347' '12.006'\n",
            " '6.683' '16.85' '16.31' '9.849' '9.475' '33.486' '8.968' '12.766'\n",
            " '19.221' '18.703' '11.424' '10.605' '9.945' '6.269' '12.295' '7.761'\n",
            " '15.156' '8.621' '9.677' '11.349' '15.171' '22.697' '10.446' '10.017'\n",
            " '7.261' '10.898' '26.645' '18.739' '25.355' '19.368' '15.376' '25.786'\n",
            " '17.206' '29.45' '15.436' '7.798' '13.884' '8.607' '15.891' '11.939'\n",
            " '27.826' '25.395' '24.658' '8.7' '13.597' '19.161' '20.693' '20.013'\n",
            " '12.859' '15.49' '12.703' '13.598' '7.477' '15.036' '11.343' '37.188'\n",
            " '35.639' '20.909' '7.34' '20.932' '13.313' '19.416' '14.216' '10.832'\n",
            " '18.348' '19.199' '27.064' '23.091' '23.003' '34.997' '16.724' '9.445'\n",
            " '33.542' '31.876' '10.84' '12.923' '22.963' '19.796' '8.966' '15.79'\n",
            " '10.403_' '15.969' '18.457' '9.381' '21.036' '25.741' '9.894' '7.845'\n",
            " '12.26' '14.02' '29.875' '14.642' '10.065' '11.014' '12.879']\n",
            "Drug\n",
            "['drugQ' 'drugZ']\n"
          ]
        }
      ]
    },
    {
      "cell_type": "markdown",
      "source": [
        "By manual inspection, we can see that the columns Gender, Cholesterol, and Na_to_K have inconsistencies which will be mentioned and addressed in the following cells."
      ],
      "metadata": {
        "id": "RpCQOXaFWKiO"
      }
    },
    {
      "cell_type": "markdown",
      "source": [
        "## Gender column\n",
        "For the gender column, some are encoded as single letters only while some are full word but inconsistent casing. to standardize, all gender values corresponding to Female will be replaced by the string 'Female' and Male with 'Male'."
      ],
      "metadata": {
        "id": "ohb5ZQKHWd5Q"
      }
    },
    {
      "cell_type": "code",
      "source": [
        "# Create a dictionary\n",
        "gender_dict = {'M': 'Male',\n",
        "               'male': 'Male',\n",
        "               'Male': 'Male',\n",
        "               'F': 'Female',\n",
        "               'female': 'Female',\n",
        "               'Female': 'Female',\n",
        "               'femal': 'Female',\n",
        "               'Femal': 'Female'}\n",
        "\n",
        "# Replace values according to the dictionary\n",
        "df['Gender'].replace(gender_dict, inplace = True)\n",
        "\n",
        "# Check the new column\n",
        "df['Gender'].unique()"
      ],
      "metadata": {
        "colab": {
          "base_uri": "https://localhost:8080/"
        },
        "id": "Nvk7eoogXHbz",
        "outputId": "fa07c0ff-2413-44b9-cc9d-540489d2d69b"
      },
      "execution_count": 6,
      "outputs": [
        {
          "output_type": "execute_result",
          "data": {
            "text/plain": [
              "array(['Male', 'Female'], dtype=object)"
            ]
          },
          "metadata": {},
          "execution_count": 6
        }
      ]
    },
    {
      "cell_type": "markdown",
      "source": [
        "## Cholesterol Column\n",
        "Similar string inconsistencies with gender"
      ],
      "metadata": {
        "id": "mwaZQveJX3GR"
      }
    },
    {
      "cell_type": "code",
      "source": [
        "\n",
        "# Check the new column\n",
        "df['Gender'].unique()\n",
        "\n",
        "# Create a dictionary\n",
        "chol_dict = {'HIGH': 'High',\n",
        "               'NORMAL': 'Normal',\n",
        "               'NORM': 'Normal',\n",
        "               'norm': 'Normal',\n",
        "               'high': 'High'}\n",
        "\n",
        "# Replace values according to the dictionary\n",
        "df['Cholesterol'].replace(chol_dict, inplace = True)\n",
        "\n",
        "# Check the new column\n",
        "df['Cholesterol'].unique()"
      ],
      "metadata": {
        "colab": {
          "base_uri": "https://localhost:8080/"
        },
        "id": "kX7N7BG7YWPs",
        "outputId": "9b15b0cd-991f-4d5b-98e3-9c4d9c4cf033"
      },
      "execution_count": 7,
      "outputs": [
        {
          "output_type": "execute_result",
          "data": {
            "text/plain": [
              "array(['High', 'Normal'], dtype=object)"
            ]
          },
          "metadata": {},
          "execution_count": 7
        }
      ]
    },
    {
      "cell_type": "markdown",
      "source": [
        "## Na to K\n",
        "One of the entries has an underscore(_) after the value causing all the entries to be treated as string. This is fixed and all entries are converted to float."
      ],
      "metadata": {
        "id": "oRL-eP8bY8vI"
      }
    },
    {
      "cell_type": "code",
      "source": [
        "# Fix the inconsistent entry\n",
        "df.Na_to_K.loc[df.Na_to_K == '10.403_'] = 10.403\n",
        "#df.Na_to_K.replace({'10.403_': 10.403}, inplace = True)\n",
        "\n",
        "# Convert all to float\n",
        "df.Na_to_K = df.Na_to_K.astype('float')\n",
        "\n",
        "# Check the column\n",
        "df.info()"
      ],
      "metadata": {
        "colab": {
          "base_uri": "https://localhost:8080/"
        },
        "id": "EV9VzuehZRa1",
        "outputId": "e4d28c6b-f039-455e-cb87-76ef96b96d2d"
      },
      "execution_count": 8,
      "outputs": [
        {
          "output_type": "stream",
          "name": "stdout",
          "text": [
            "<class 'pandas.core.frame.DataFrame'>\n",
            "RangeIndex: 296 entries, 0 to 295\n",
            "Data columns (total 6 columns):\n",
            " #   Column       Non-Null Count  Dtype  \n",
            "---  ------       --------------  -----  \n",
            " 0   Age          237 non-null    float64\n",
            " 1   Gender       296 non-null    object \n",
            " 2   BP           221 non-null    object \n",
            " 3   Cholesterol  296 non-null    object \n",
            " 4   Na_to_K      296 non-null    float64\n",
            " 5   Drug         296 non-null    object \n",
            "dtypes: float64(2), object(4)\n",
            "memory usage: 14.0+ KB\n"
          ]
        },
        {
          "output_type": "stream",
          "name": "stderr",
          "text": [
            "/usr/local/lib/python3.7/dist-packages/pandas/core/indexing.py:670: SettingWithCopyWarning: \n",
            "A value is trying to be set on a copy of a slice from a DataFrame\n",
            "\n",
            "See the caveats in the documentation: https://pandas.pydata.org/pandas-docs/stable/user_guide/indexing.html#returning-a-view-versus-a-copy\n",
            "  iloc._setitem_with_indexer(indexer, value)\n"
          ]
        }
      ]
    },
    {
      "cell_type": "markdown",
      "source": [
        "## Age column\n",
        "This column has no inconsistency but according to the data dictionary, this column is supposed to have an 'int' datatype, however, this will be difficult to fix when there are missing values in the column. This can also be left as is since being an int or float doesn't have a significant consequence on the model."
      ],
      "metadata": {
        "id": "mHy5ZToKdV12"
      }
    },
    {
      "cell_type": "code",
      "source": [
        "# Convert the values to int\n",
        "# df.Age = df.Age.astype('int')"
      ],
      "metadata": {
        "id": "qpbpyN1Kdgan"
      },
      "execution_count": 9,
      "outputs": []
    },
    {
      "cell_type": "markdown",
      "source": [
        "# Initial Data Visualization\n",
        "Get an initial visualization of the original data, before imputing but after fixing inconsistencies. This can also show suspicious numerical values."
      ],
      "metadata": {
        "id": "XlqeZ-sWcVVH"
      }
    },
    {
      "cell_type": "code",
      "source": [
        "# Histogram of the Drug classes\n",
        "print(df.Drug.value_counts(normalize = True))\n",
        "df.Drug.hist()"
      ],
      "metadata": {
        "colab": {
          "base_uri": "https://localhost:8080/",
          "height": 338
        },
        "id": "BHnSIS7BePX2",
        "outputId": "8223f309-3f1f-46c8-ded4-4a62c558f9c0"
      },
      "execution_count": 10,
      "outputs": [
        {
          "output_type": "stream",
          "name": "stdout",
          "text": [
            "drugZ    0.5\n",
            "drugQ    0.5\n",
            "Name: Drug, dtype: float64\n"
          ]
        },
        {
          "output_type": "execute_result",
          "data": {
            "text/plain": [
              "<matplotlib.axes._subplots.AxesSubplot at 0x7f92713c4590>"
            ]
          },
          "metadata": {},
          "execution_count": 10
        },
        {
          "output_type": "display_data",
          "data": {
            "image/png": "[encoded data removed]",
            "text/plain": [
              "<Figure size 432x288 with 1 Axes>"
            ]
          },
          "metadata": {
            "needs_background": "light"
          }
        }
      ]
    },
    {
      "cell_type": "markdown",
      "source": [
        "This also shows that the dataset is balanced."
      ],
      "metadata": {
        "id": "ta7kX5v9eg80"
      }
    },
    {
      "cell_type": "code",
      "source": [
        "# Distribution of Age\n",
        "df.Age.hist()"
      ],
      "metadata": {
        "colab": {
          "base_uri": "https://localhost:8080/",
          "height": 283
        },
        "id": "Z12oS284erL1",
        "outputId": "8a6f93c4-842f-4161-a6d3-90927e9fb3e5"
      },
      "execution_count": 11,
      "outputs": [
        {
          "output_type": "execute_result",
          "data": {
            "text/plain": [
              "<matplotlib.axes._subplots.AxesSubplot at 0x7f927134f550>"
            ]
          },
          "metadata": {},
          "execution_count": 11
        },
        {
          "output_type": "display_data",
          "data": {
            "image/png": "[encoded data removed]",
            "text/plain": [
              "<Figure size 432x288 with 1 Axes>"
            ]
          },
          "metadata": {
            "needs_background": "light"
          }
        }
      ]
    },
    {
      "cell_type": "markdown",
      "source": [
        "The gragh shows that there is an unusually high value of almost 500 in the Age column which is very unlikely. This is assumed to be a typographic error and is fixed accordingly. The occurence is only once and the value is 570 which is likely supposed to be 57."
      ],
      "metadata": {
        "id": "7JdMo3SDfoZa"
      }
    },
    {
      "cell_type": "code",
      "source": [
        "# Show the highest age in the data\n",
        "max_age = df0.Age.max() #search in the original data since the copied data is already altered\n",
        "print(max_age)\n",
        "\n",
        "df.loc[df.Age == max_age]\n"
      ],
      "metadata": {
        "colab": {
          "base_uri": "https://localhost:8080/",
          "height": 98
        },
        "id": "dlRFZskKezL0",
        "outputId": "208be65d-9e3c-434d-e781-554c989a81d7"
      },
      "execution_count": 12,
      "outputs": [
        {
          "output_type": "stream",
          "name": "stdout",
          "text": [
            "570.0\n"
          ]
        },
        {
          "output_type": "execute_result",
          "data": {
            "text/html": [
              "\n",
              "  <div id=\"df-cde8b2f4-01ac-4981-a3ea-d84abc5f525e\">\n",
              "    <div class=\"colab-df-container\">\n",
              "      <div>\n",
              "<style scoped>\n",
              "    .dataframe tbody tr th:only-of-type {\n",
              "        vertical-align: middle;\n",
              "    }\n",
              "\n",
              "    .dataframe tbody tr th {\n",
              "        vertical-align: top;\n",
              "    }\n",
              "\n",
              "    .dataframe thead th {\n",
              "        text-align: right;\n",
              "    }\n",
              "</style>\n",
              "<table border=\"1\" class=\"dataframe\">\n",
              "  <thead>\n",
              "    <tr style=\"text-align: right;\">\n",
              "      <th></th>\n",
              "      <th>Age</th>\n",
              "      <th>Gender</th>\n",
              "      <th>BP</th>\n",
              "      <th>Cholesterol</th>\n",
              "      <th>Na_to_K</th>\n",
              "      <th>Drug</th>\n",
              "    </tr>\n",
              "  </thead>\n",
              "  <tbody>\n",
              "    <tr>\n",
              "      <th>232</th>\n",
              "      <td>570.0</td>\n",
              "      <td>Female</td>\n",
              "      <td>Normal</td>\n",
              "      <td>High</td>\n",
              "      <td>14.216</td>\n",
              "      <td>drugZ</td>\n",
              "    </tr>\n",
              "  </tbody>\n",
              "</table>\n",
              "</div>\n",
              "      <button class=\"colab-df-convert\" onclick=\"convertToInteractive('df-cde8b2f4-01ac-4981-a3ea-d84abc5f525e')\"\n",
              "              title=\"Convert this dataframe to an interactive table.\"\n",
              "              style=\"display:none;\">\n",
              "        \n",
              "  <svg xmlns=\"http://www.w3.org/2000/svg\" height=\"24px\"viewBox=\"0 0 24 24\"\n",
              "       width=\"24px\">\n",
              "    <path d=\"M0 0h24v24H0V0z\" fill=\"none\"/>\n",
              "    <path d=\"M18.56 5.44l.94 2.06.94-2.06 2.06-.94-2.06-.94-.94-2.06-.94 2.06-2.06.94zm-11 1L8.5 8.5l.94-2.06 2.06-.94-2.06-.94L8.5 2.5l-.94 2.06-2.06.94zm10 10l.94 2.06.94-2.06 2.06-.94-2.06-.94-.94-2.06-.94 2.06-2.06.94z\"/><path d=\"M17.41 7.96l-1.37-1.37c-.4-.4-.92-.59-1.43-.59-.52 0-1.04.2-1.43.59L10.3 9.45l-7.72 7.72c-.78.78-.78 2.05 0 2.83L4 21.41c.39.39.9.59 1.41.59.51 0 1.02-.2 1.41-.59l7.78-7.78 2.81-2.81c.8-.78.8-2.07 0-2.86zM5.41 20L4 18.59l7.72-7.72 1.47 1.35L5.41 20z\"/>\n",
              "  </svg>\n",
              "      </button>\n",
              "      \n",
              "  <style>\n",
              "    .colab-df-container {\n",
              "      display:flex;\n",
              "      flex-wrap:wrap;\n",
              "      gap: 12px;\n",
              "    }\n",
              "\n",
              "    .colab-df-convert {\n",
              "      background-color: #E8F0FE;\n",
              "      border: none;\n",
              "      border-radius: 50%;\n",
              "      cursor: pointer;\n",
              "      display: none;\n",
              "      fill: #1967D2;\n",
              "      height: 32px;\n",
              "      padding: 0 0 0 0;\n",
              "      width: 32px;\n",
              "    }\n",
              "\n",
              "    .colab-df-convert:hover {\n",
              "      background-color: #E2EBFA;\n",
              "      box-shadow: 0px 1px 2px rgba(60, 64, 67, 0.3), 0px 1px 3px 1px rgba(60, 64, 67, 0.15);\n",
              "      fill: #174EA6;\n",
              "    }\n",
              "\n",
              "    [theme=dark] .colab-df-convert {\n",
              "      background-color: #3B4455;\n",
              "      fill: #D2E3FC;\n",
              "    }\n",
              "\n",
              "    [theme=dark] .colab-df-convert:hover {\n",
              "      background-color: #434B5C;\n",
              "      box-shadow: 0px 1px 3px 1px rgba(0, 0, 0, 0.15);\n",
              "      filter: drop-shadow(0px 1px 2px rgba(0, 0, 0, 0.3));\n",
              "      fill: #FFFFFF;\n",
              "    }\n",
              "  </style>\n",
              "\n",
              "      <script>\n",
              "        const buttonEl =\n",
              "          document.querySelector('#df-cde8b2f4-01ac-4981-a3ea-d84abc5f525e button.colab-df-convert');\n",
              "        buttonEl.style.display =\n",
              "          google.colab.kernel.accessAllowed ? 'block' : 'none';\n",
              "\n",
              "        async function convertToInteractive(key) {\n",
              "          const element = document.querySelector('#df-cde8b2f4-01ac-4981-a3ea-d84abc5f525e');\n",
              "          const dataTable =\n",
              "            await google.colab.kernel.invokeFunction('convertToInteractive',\n",
              "                                                     [key], {});\n",
              "          if (!dataTable) return;\n",
              "\n",
              "          const docLinkHtml = 'Like what you see? Visit the ' +\n",
              "            '<a target=\"_blank\" href=https://colab.research.google.com/notebooks/data_table.ipynb>data table notebook</a>'\n",
              "            + ' to learn more about interactive tables.';\n",
              "          element.innerHTML = '';\n",
              "          dataTable['output_type'] = 'display_data';\n",
              "          await google.colab.output.renderOutput(dataTable, element);\n",
              "          const docLink = document.createElement('div');\n",
              "          docLink.innerHTML = docLinkHtml;\n",
              "          element.appendChild(docLink);\n",
              "        }\n",
              "      </script>\n",
              "    </div>\n",
              "  </div>\n",
              "  "
            ],
            "text/plain": [
              "       Age  Gender      BP Cholesterol  Na_to_K   Drug\n",
              "232  570.0  Female  Normal        High   14.216  drugZ"
            ]
          },
          "metadata": {},
          "execution_count": 12
        }
      ]
    },
    {
      "cell_type": "code",
      "source": [
        "# Replace the value\n",
        "df.loc[df.Age == max_age, 'Age'] = 57"
      ],
      "metadata": {
        "id": "l3RxeMx9gDiq"
      },
      "execution_count": 13,
      "outputs": []
    },
    {
      "cell_type": "code",
      "source": [
        "# Distribution of Age\n",
        "df.Age.hist(bins = int( df.Age.max() - df.Age.min()))"
      ],
      "metadata": {
        "colab": {
          "base_uri": "https://localhost:8080/",
          "height": 283
        },
        "id": "xyHrr8icgQ5A",
        "outputId": "4d044b5c-89cf-4e89-b4f2-ab02469c2abf"
      },
      "execution_count": 14,
      "outputs": [
        {
          "output_type": "execute_result",
          "data": {
            "text/plain": [
              "<matplotlib.axes._subplots.AxesSubplot at 0x7f9270de1550>"
            ]
          },
          "metadata": {},
          "execution_count": 14
        },
        {
          "output_type": "display_data",
          "data": {
            "image/png": "[encoded data removed]",
            "text/plain": [
              "<Figure size 432x288 with 1 Axes>"
            ]
          },
          "metadata": {
            "needs_background": "light"
          }
        }
      ]
    },
    {
      "cell_type": "code",
      "source": [
        "# Initialize the bins\n",
        "bins = np.arange(min(df.Age), max(df.Age), 5)\n",
        "\n",
        "# Create a histogram\n",
        "plt.hist(df.loc[df.Drug == 'drugQ'].Age, bins = bins, alpha = 0.5, edgecolor = 'k', label = 'Drug Q')\n",
        "plt.hist(df.loc[df.Drug != 'drugQ'].Age, bins = bins, alpha = 0.5, edgecolor = 'k', label = 'Drug Z')\n",
        "plt.legend()"
      ],
      "metadata": {
        "colab": {
          "base_uri": "https://localhost:8080/",
          "height": 283
        },
        "id": "3AD1XpW3ZAjR",
        "outputId": "0cb1d5dd-9f56-42a0-edb2-2825a49ac82b"
      },
      "execution_count": 35,
      "outputs": [
        {
          "output_type": "execute_result",
          "data": {
            "text/plain": [
              "<matplotlib.legend.Legend at 0x7f9265009550>"
            ]
          },
          "metadata": {},
          "execution_count": 35
        },
        {
          "output_type": "display_data",
          "data": {
            "image/png": "[encoded data removed]",
            "text/plain": [
              "<Figure size 432x288 with 1 Axes>"
            ]
          },
          "metadata": {
            "needs_background": "light"
          }
        }
      ]
    },
    {
      "cell_type": "code",
      "source": [
        "# Distribution of Na_to_K\n",
        "df.Na_to_K.hist()"
      ],
      "metadata": {
        "colab": {
          "base_uri": "https://localhost:8080/",
          "height": 286
        },
        "id": "UBLOuRflhtxT",
        "outputId": "5bfc6339-ca3a-47f3-8143-5f7dfda94fdd"
      },
      "execution_count": 15,
      "outputs": [
        {
          "output_type": "execute_result",
          "data": {
            "text/plain": [
              "<matplotlib.axes._subplots.AxesSubplot at 0x7f9270d42c90>"
            ]
          },
          "metadata": {},
          "execution_count": 15
        },
        {
          "output_type": "display_data",
          "data": {
            "image/png": "[encoded data removed]",
            "text/plain": [
              "<Figure size 432x288 with 1 Axes>"
            ]
          },
          "metadata": {
            "needs_background": "light"
          }
        }
      ]
    },
    {
      "cell_type": "markdown",
      "source": [
        "The distribution is left skewed (almost Gaussian)"
      ],
      "metadata": {
        "id": "rrPk1Iw1h8Vz"
      }
    },
    {
      "cell_type": "markdown",
      "source": [
        "# Filling mising values\n",
        "To avoid leaking of data in filling missing value, this step will be done after the splitting of data for machine learning. For other steps before the splitting, such as EDA, these missing values will be ignored in the meantime."
      ],
      "metadata": {
        "id": "JERDknPnjwGH"
      }
    },
    {
      "cell_type": "code",
      "source": [
        "# Count missing values\n",
        "print(df.isna().sum())\n",
        "\n",
        "# Show how many columns\n",
        "print(f'Total number of rows: {len(df)}')"
      ],
      "metadata": {
        "colab": {
          "base_uri": "https://localhost:8080/"
        },
        "id": "qqKhWtbvkQ6-",
        "outputId": "4afcfa0c-2dba-45bc-9da3-01a2bdf675d9"
      },
      "execution_count": 16,
      "outputs": [
        {
          "output_type": "stream",
          "name": "stdout",
          "text": [
            "Age            59\n",
            "Gender          0\n",
            "BP             75\n",
            "Cholesterol     0\n",
            "Na_to_K         0\n",
            "Drug            0\n",
            "dtype: int64\n",
            "Total number of rows: 296\n"
          ]
        }
      ]
    },
    {
      "cell_type": "markdown",
      "source": [
        "From this, we can see that the number of missing values (for each column with mising values) is significant compared to the total number of columns (50/296 and 75/296). This may also imply that imputing these mising values with just a single value, like in Frequent Category Imputation, can greatly affect the distribution of the data shown above since one value will have an unusually high frequency."
      ],
      "metadata": {
        "id": "gBeI7SGomCmv"
      }
    },
    {
      "cell_type": "markdown",
      "source": [
        "# Exploratory Data Analysis / Visualization"
      ],
      "metadata": {
        "id": "A3Hb6t5Amrbc"
      }
    },
    {
      "cell_type": "code",
      "source": [
        "# Calculate the correlation coefficient\n",
        "corr = df.corr()\n",
        "\n",
        "# Create a heatmap\n",
        "sns.heatmap(corr, annot = True, cmap = 'Blues')"
      ],
      "metadata": {
        "colab": {
          "base_uri": "https://localhost:8080/",
          "height": 288
        },
        "id": "gDHOk893m2Pa",
        "outputId": "fe920025-9639-4d07-e01c-5df55731c4d4"
      },
      "execution_count": 19,
      "outputs": [
        {
          "output_type": "execute_result",
          "data": {
            "text/plain": [
              "<matplotlib.axes._subplots.AxesSubplot at 0x7f9270c370d0>"
            ]
          },
          "metadata": {},
          "execution_count": 19
        },
        {
          "output_type": "display_data",
          "data": {
            "image/png": "[encoded data removed]",
            "text/plain": [
              "<Figure size 432x288 with 2 Axes>"
            ]
          },
          "metadata": {
            "needs_background": "light"
          }
        }
      ]
    },
    {
      "cell_type": "code",
      "source": [
        "# Count the number of male and female in each Drug class\n",
        "maleQ = len( df.loc[(df.Gender == 'Male') & (df.Drug == 'drugQ') ])\n",
        "maleZ = len( df.loc[(df.Gender == 'Male') & (df.Drug == 'drugZ') ])\n",
        "femaleQ = len( df.loc[(df.Gender == 'Female') & (df.Drug == 'drugQ') ])\n",
        "femaleZ = len( df.loc[(df.Gender == 'Female') & (df.Drug == 'drugZ') ])\n",
        "\n",
        "# Create a stacked bar graph\n",
        "plt.bar(['DrugQ', 'DrugZ'], [maleQ, maleZ], color='b',alpha = 0.5,  edgecolor = 'k')\n",
        "plt.bar(['DrugQ' , 'DrugZ'], [femaleQ, femaleZ], bottom = [maleQ, maleZ], color='r', alpha = 0.5, edgecolor = 'k')\n",
        "plt.legend(title = 'Gender', labels = ['Male', 'Female'])\n",
        "plt.xlabel('Drug')\n",
        "plt.ylabel('Count')"
      ],
      "metadata": {
        "colab": {
          "base_uri": "https://localhost:8080/",
          "height": 297
        },
        "id": "RYzdIQnVsVXk",
        "outputId": "01eafa22-2cab-4cfc-dd83-614dc7bf2a00"
      },
      "execution_count": 20,
      "outputs": [
        {
          "output_type": "execute_result",
          "data": {
            "text/plain": [
              "Text(0, 0.5, 'Count')"
            ]
          },
          "metadata": {},
          "execution_count": 20
        },
        {
          "output_type": "display_data",
          "data": {
            "image/png": "[encoded data removed]",
            "text/plain": [
              "<Figure size 432x288 with 1 Axes>"
            ]
          },
          "metadata": {
            "needs_background": "light"
          }
        }
      ]
    },
    {
      "cell_type": "markdown",
      "source": [
        "From this graph, it shows that the data is balanced with approximately equal number of data points for each drug class. Additionally, the gender composition in each class is also approximately equal."
      ],
      "metadata": {
        "id": "vvIiqb44W2FQ"
      }
    },
    {
      "cell_type": "code",
      "source": [
        "#Distribution of BP\n",
        "\n",
        "# Count the number of drugQ and drugZ in each BP category\n",
        "#drugQ\n",
        "HighQ = len(df.loc[(df.Drug == 'drugQ') & (df.BP == 'High')])\n",
        "NormalQ = len(df.loc[(df.Drug == 'drugQ') & (df.BP == 'Normal')])\n",
        "LowQ = len(df.loc[(df.Drug == 'drugQ') & (df.BP == 'Low')])\n",
        "#drugZ\n",
        "HighZ = len(df.loc[(df.Drug != 'drugQ') & (df.BP == 'High')])\n",
        "NormalZ = len(df.loc[(df.Drug != 'drugQ') & (df.BP == 'Normal')])\n",
        "LowZ = len(df.loc[(df.Drug != 'drugQ') & (df.BP == 'Low')])\n",
        "\n",
        "# Create a stacked bar graph\n",
        "plt.bar(['Low', 'Normal', 'High'], [LowQ, NormalQ, HighQ], color='b',alpha = 0.5,  edgecolor = 'k')\n",
        "plt.bar(['Low', 'Normal', 'High'], [LowZ, NormalZ, HighZ], bottom = [LowQ, NormalQ, HighQ], color='r', alpha = 0.5, edgecolor = 'k')\n",
        "plt.legend(title = 'Drug Treatment', labels = ['Drug Q', 'Drug Z'])\n",
        "plt.xlabel('BP')\n",
        "plt.ylabel('Count')"
      ],
      "metadata": {
        "colab": {
          "base_uri": "https://localhost:8080/",
          "height": 297
        },
        "id": "vXb0-15Sbn00",
        "outputId": "eb14d89c-5ab0-4875-b24f-3fac8e4522e2"
      },
      "execution_count": 41,
      "outputs": [
        {
          "output_type": "execute_result",
          "data": {
            "text/plain": [
              "Text(0, 0.5, 'Count')"
            ]
          },
          "metadata": {},
          "execution_count": 41
        },
        {
          "output_type": "display_data",
          "data": {
            "image/png": "[encoded data removed]",
            "text/plain": [
              "<Figure size 432x288 with 1 Axes>"
            ]
          },
          "metadata": {
            "needs_background": "light"
          }
        }
      ]
    },
    {
      "cell_type": "markdown",
      "source": [
        "From this graph, this shows us that Low and Normal BP all have a Drug Z treatment. Meanwhile, the modal class, High BP is composed of unequal number of Drugs Q and Z treatments with Drug Q being the higher. This also suggests that the best imputing method for missing values in the BP column would be the most frequent so that Drug Q patients with missing value for BP will fall in the High category. "
      ],
      "metadata": {
        "id": "okOdEBV5dEwr"
      }
    },
    {
      "cell_type": "code",
      "source": [
        "# Create a scatterplot\n",
        "sns.scatterplot(df.Age, df. Na_to_K, hue = df.Drug)"
      ],
      "metadata": {
        "colab": {
          "base_uri": "https://localhost:8080/",
          "height": 354
        },
        "id": "yo_RkDgtxx1V",
        "outputId": "1ec1231a-a3e9-4ad9-c1c6-3d28c2601bb2"
      },
      "execution_count": 21,
      "outputs": [
        {
          "output_type": "stream",
          "name": "stderr",
          "text": [
            "/usr/local/lib/python3.7/dist-packages/seaborn/_decorators.py:43: FutureWarning: Pass the following variables as keyword args: x, y. From version 0.12, the only valid positional argument will be `data`, and passing other arguments without an explicit keyword will result in an error or misinterpretation.\n",
            "  FutureWarning\n"
          ]
        },
        {
          "output_type": "execute_result",
          "data": {
            "text/plain": [
              "<matplotlib.axes._subplots.AxesSubplot at 0x7f9268382490>"
            ]
          },
          "metadata": {},
          "execution_count": 21
        },
        {
          "output_type": "display_data",
          "data": {
            "image/png": "[encoded data removed]",
            "text/plain": [
              "<Figure size 432x288 with 1 Axes>"
            ]
          },
          "metadata": {
            "needs_background": "light"
          }
        }
      ]
    },
    {
      "cell_type": "markdown",
      "source": [
        "From this scatterplot, we can see that drugQ is mostly associated with low values of Na_to_K regardless of the age. Meanwhile, drugZ is more scattered. If the task is to predict drugQ, logistic regression might be viable, however, the task is to predict both drug classes and this shows that logistic regression might not be suitable for this problem."
      ],
      "metadata": {
        "id": "C45ZCqjRXOij"
      }
    },
    {
      "cell_type": "code",
      "source": [
        "import plotly.express as px\n",
        "\n",
        "fig = px.scatter_3d(df, x='Age', y='Cholesterol', z='Na_to_K',\n",
        "              color='Drug')\n",
        "fig.show()"
      ],
      "metadata": {
        "colab": {
          "base_uri": "https://localhost:8080/",
          "height": 0
        },
        "id": "HfNBZOY1yKu0",
        "outputId": "298d6ae0-f485-4518-ab6c-df81aea857df"
      },
      "execution_count": 37,
      "outputs": [
        {
          "output_type": "display_data",
          "data": {
            "text/html": [
              "<html>\n",
              "<head><meta charset=\"utf-8\" /></head>\n",
              "<body>\n",
              "    <div>\n",
              "            <script src=\"https://cdnjs.cloudflare.com/ajax/libs/mathjax/2.7.5/MathJax.js?config=TeX-AMS-MML_SVG\"></script><script type=\"text/javascript\">if (window.MathJax) {MathJax.Hub.Config({SVG: {font: \"STIX-Web\"}});}</script>\n",
              "                <script type=\"text/javascript\">window.PlotlyConfig = {MathJaxConfig: 'local'};</script>\n",
              "        <script src=\"https://cdn.plot.ly/plotly-latest.min.js\"></script>    \n",
              "            <div id=\"2cdaf57c-e9fe-46e2-b941-26ab284c2d8e\" class=\"plotly-graph-div\" style=\"height:525px; width:100%;\"></div>\n",
              "            <script type=\"text/javascript\">\n",
              "                \n",
              "                    window.PLOTLYENV=window.PLOTLYENV || {};\n",
              "                    \n",
              "                if (document.getElementById(\"2cdaf57c-e9fe-46e2-b941-26ab284c2d8e\")) {\n",
              "                    Plotly.newPlot(\n",
              "                        '2cdaf57c-e9fe-46e2-b941-26ab284c2d8e',\n",
              "                        [{\"hoverlabel\": {\"namelength\": 0}, \"hovertemplate\": \"Drug=drugQ<br>Age=%{x}<br>Cholesterol=%{y}<br>Na_to_K=%{z}\", \"legendgroup\": \"Drug=drugQ\", \"marker\": {\"color\": \"#636efa\", \"symbol\": \"circle\"}, \"mode\": \"markers\", \"name\": \"Drug=drugQ\", \"scene\": \"scene\", \"showlegend\": true, \"type\": \"scatter3d\", \"x\": [59.0, 55.0, 53.0, 72.0, 60.0, null, 43.0, 44.0, 21.0, 29.0, null, null, null, 37.0, 32.0, 67.0, 31.0, 66.0, 44.0, null, null, 55.0, 20.0, 31.0, 45.0, 53.0, 55.0, 42.0, null, 60.0, 36.0, 53.0, 38.0, null, 26.0, 53.0, null, 47.0, 43.0, 56.0, 71.0, null, 67.0, 54.0, 36.0, null, 69.0, 61.0, 24.0, 69.0, null, 66.0, 26.0, 55.0, 61.0, 19.0, 48.0, 60.0, 48.0, 46.0, null, 69.0, null, null, 72.0, 29.0, 45.0, 69.0, 70.0, 57.0, 59.0, 26.0, 23.0, 31.0, 70.0, 29.0, null, 73.0, 43.0, null, 23.0, 37.0, 53.0, 29.0, 23.0, 48.0, 55.0, null, null, null, null, 57.0, 70.0, 49.0, 30.0, 62.0, 36.0, 39.0, 44.0, 65.0, null, null, 60.0, 50.0, null, 31.0, 70.0, 37.0, 19.0, 42.0, 57.0, 71.0, 58.0, 20.0, 40.0, 42.0, 32.0, 26.0, 42.0, 28.0, 54.0, null, 48.0, null, 32.0, 36.0, 55.0, 70.0, 19.0, null, 59.0, 32.0, 19.0, 35.0, 36.0, 74.0, 68.0, null, 59.0, null, 36.0, null, 19.0, 44.0, 65.0, null, 44.0, 29.0], \"y\": [\"High\", \"Normal\", \"High\", \"High\", \"High\", \"High\", \"High\", \"High\", \"High\", \"High\", \"Normal\", \"Normal\", \"High\", \"High\", \"High\", \"Normal\", \"Normal\", \"Normal\", \"High\", \"Normal\", \"High\", \"Normal\", \"High\", \"Normal\", \"High\", \"High\", \"High\", \"High\", \"High\", \"High\", \"High\", \"Normal\", \"Normal\", \"High\", \"Normal\", \"Normal\", \"High\", \"High\", \"High\", \"High\", \"High\", \"High\", \"Normal\", \"High\", \"High\", \"High\", \"High\", \"Normal\", \"Normal\", \"High\", \"Normal\", \"Normal\", \"Normal\", \"High\", \"Normal\", \"High\", \"Normal\", \"High\", \"Normal\", \"Normal\", \"Normal\", \"High\", \"High\", \"Normal\", \"Normal\", \"High\", \"Normal\", \"High\", \"High\", \"High\", \"High\", \"Normal\", \"High\", \"High\", \"High\", \"Normal\", \"High\", \"High\", \"Normal\", \"Normal\", \"High\", \"High\", \"Normal\", \"High\", \"High\", \"Normal\", \"Normal\", \"High\", \"High\", \"High\", \"Normal\", \"Normal\", \"High\", \"Normal\", \"Normal\", \"High\", \"High\", \"High\", \"High\", \"Normal\", \"High\", \"Normal\", \"High\", \"High\", \"High\", \"Normal\", \"High\", \"High\", \"High\", \"High\", \"High\", \"High\", \"Normal\", \"High\", \"High\", \"Normal\", \"Normal\", \"Normal\", \"High\", \"High\", \"High\", \"Normal\", \"Normal\", \"High\", \"Normal\", \"High\", \"High\", \"High\", \"High\", \"Normal\", \"High\", \"Normal\", \"High\", \"High\", \"High\", \"High\", \"High\", \"High\", \"High\", \"High\", \"High\", \"High\", \"High\", \"High\", \"Normal\", \"Normal\", \"High\", \"Normal\"], \"z\": [13.935, 10.977, 13.303, 11.009, 11.34, 9.567, 7.49, 12.894, 8.011, 9.664, 10.292, 11.326, 13.967, 10.292, 13.091, 14.239, 11.227, 10.189, 11.198, 11.326, 11.009, 14.239, 11.262, 11.871, 12.854, 12.854, 10.977, 12.856, 13.303, 13.934, 13.091, 12.495, 11.326, 12.894, 12.307, 12.495, 13.967, 13.972, 13.972, 13.934, 11.009, 10.292, 11.34, 13.303, 11.198, 13.967, 9.849, 14.239, 9.475, 9.849, 12.766, 10.189, 9.475, 13.972, 9.945, 12.307, 6.269, 13.303, 6.269, 12.766, 8.621, 9.849, 13.091, 10.189, 9.677, 9.664, 10.446, 9.849, 9.849, 13.303, 7.49, 12.766, 8.011, 11.871, 13.967, 12.856, 12.854, 13.967, 10.446, 6.269, 12.307, 13.091, 9.945, 12.856, 12.307, 12.766, 9.945, 13.091, 13.972, 11.262, 10.446, 14.239, 11.34, 8.7, 12.856, 11.009, 11.198, 9.664, 12.854, 9.677, 13.934, 11.343, 13.934, 7.49, 12.307, 10.292, 13.967, 11.198, 12.307, 9.664, 11.009, 9.849, 14.239, 13.313, 13.091, 6.269, 12.766, 12.766, 12.766, 8.011, 13.935, 9.945, 10.446, 11.198, 9.445, 12.854, 12.854, 11.009, 13.313, 9.945, 13.935, 10.292, 11.262, 11.198, 13.091, 9.567, 13.967, 10.403, 10.977, 13.934, 12.894, 11.198, 8.011, 7.49, 11.34, 12.307, 12.854, 9.475]}, {\"hoverlabel\": {\"namelength\": 0}, \"hovertemplate\": \"Drug=drugZ<br>Age=%{x}<br>Cholesterol=%{y}<br>Na_to_K=%{z}\", \"legendgroup\": \"Drug=drugZ\", \"marker\": {\"color\": \"#EF553B\", \"symbol\": \"circle\"}, \"mode\": \"markers\", \"name\": \"Drug=drugZ\", \"scene\": \"scene\", \"showlegend\": true, \"type\": \"scatter3d\", \"x\": [40.0, null, 62.0, 61.0, 35.0, 63.0, null, 21.0, 31.0, 69.0, 62.0, 20.0, 61.0, 39.0, 18.0, null, 57.0, 25.0, 22.0, 46.0, 61.0, 20.0, 70.0, null, 31.0, 74.0, 58.0, 56.0, 65.0, null, 42.0, null, 67.0, 39.0, 23.0, 16.0, 16.0, 22.0, 15.0, null, null, null, 57.0, 47.0, null, null, 32.0, null, 36.0, 34.0, null, 39.0, 18.0, 28.0, 52.0, 60.0, 49.0, 66.0, 30.0, 69.0, null, 37.0, 47.0, null, null, 45.0, 33.0, 37.0, 73.0, 34.0, 36.0, 24.0, 50.0, null, 41.0, 40.0, 60.0, 39.0, 45.0, 55.0, 67.0, 58.0, 41.0, 23.0, 43.0, 43.0, 24.0, 15.0, null, 74.0, 28.0, 59.0, 22.0, 67.0, null, 40.0, 56.0, 54.0, null, 26.0, 67.0, 42.0, 43.0, 36.0, 50.0, 49.0, 32.0, 48.0, 18.0, null, 26.0, 61.0, 61.0, 64.0, 58.0, 57.0, null, 73.0, null, 28.0, null, 51.0, null, 43.0, 37.0, 47.0, 65.0, 32.0, null, 53.0, 28.0, 56.0, 50.0, 39.0, 24.0, 49.0, 42.0, 64.0, 52.0, 35.0, null, 23.0, 38.0, 72.0, 51.0, null, 49.0, 28.0], \"y\": [\"High\", \"High\", \"High\", \"High\", \"Normal\", \"High\", \"High\", \"Normal\", \"Normal\", \"High\", \"Normal\", \"Normal\", \"High\", \"Normal\", \"Normal\", \"Normal\", \"Normal\", \"High\", \"High\", \"High\", \"High\", \"Normal\", \"High\", \"Normal\", \"High\", \"High\", \"High\", \"High\", \"Normal\", \"Normal\", \"Normal\", \"Normal\", \"Normal\", \"Normal\", \"High\", \"Normal\", \"Normal\", \"Normal\", \"Normal\", \"High\", \"Normal\", \"High\", \"Normal\", \"Normal\", \"Normal\", \"Normal\", \"Normal\", \"High\", \"High\", \"High\", \"Normal\", \"Normal\", \"Normal\", \"High\", \"Normal\", \"Normal\", \"High\", \"Normal\", \"High\", \"Normal\", \"High\", \"Normal\", \"Normal\", \"High\", \"High\", \"Normal\", \"High\", \"Normal\", \"High\", \"High\", \"Normal\", \"High\", \"Normal\", \"High\", \"Normal\", \"Normal\", \"High\", \"Normal\", \"Normal\", \"Normal\", \"Normal\", \"High\", \"Normal\", \"High\", \"Normal\", \"High\", \"High\", \"Normal\", \"High\", \"Normal\", \"High\", \"High\", \"High\", \"High\", \"Normal\", \"High\", \"High\", \"High\", \"High\", \"Normal\", \"Normal\", \"High\", \"Normal\", \"Normal\", \"High\", \"Normal\", \"High\", \"High\", \"High\", \"Normal\", \"Normal\", \"High\", \"Normal\", \"Normal\", \"High\", \"High\", \"Normal\", \"High\", \"Normal\", \"High\", \"Normal\", \"Normal\", \"Normal\", \"High\", \"Normal\", \"Normal\", \"Normal\", \"Normal\", \"Normal\", \"High\", \"High\", \"High\", \"Normal\", \"High\", \"Normal\", \"Normal\", \"High\", \"Normal\", \"High\", \"Normal\", \"High\", \"Normal\", \"Normal\", \"Normal\", \"High\", \"High\", \"Normal\", \"High\"], \"z\": [10.103, 9.084, 16.594, 25.475, 9.17, 25.917, 18.295, 28.632, 17.069, 15.478, 27.183, 9.281, 9.443, 17.225, 24.276, 8.37, 25.893, 19.011, 11.953, 34.686, 18.043, 11.686, 20.489, 18.809, 30.366, 20.942, 18.991, 15.015, 13.769, 25.969, 29.271, 7.285, 9.514, 9.709, 31.686, 15.516, 19.007, 22.818, 16.725, 14.133, 17.211, 17.951, 19.128, 30.568, 22.905, 28.294, 25.974, 38.247, 16.753, 22.456, 27.05, 13.938, 8.75, 19.675, 32.922, 10.091, 16.275, 8.107, 10.443, 11.455, 16.347, 12.006, 6.683, 16.85, 16.31, 8.37, 33.486, 8.968, 19.221, 18.703, 11.424, 10.605, 12.295, 7.761, 15.156, 11.349, 15.171, 22.697, 10.017, 7.261, 10.898, 26.645, 18.739, 25.355, 19.368, 15.376, 25.786, 17.206, 29.45, 15.436, 7.798, 13.884, 8.607, 15.891, 11.939, 27.826, 25.395, 24.658, 13.597, 19.161, 20.693, 20.013, 12.859, 15.49, 12.703, 13.598, 7.477, 15.036, 37.188, 35.639, 20.909, 18.043, 7.34, 20.932, 19.416, 14.216, 10.832, 18.348, 19.199, 27.064, 23.091, 23.003, 34.997, 15.376, 16.724, 33.542, 31.876, 10.84, 12.923, 22.963, 19.796, 8.966, 15.79, 15.969, 18.457, 9.381, 21.036, 25.741, 9.894, 7.845, 12.26, 14.02, 29.875, 14.642, 18.295, 10.065, 11.014, 12.879]}],\n",
              "                        {\"legend\": {\"tracegroupgap\": 0}, \"margin\": {\"t\": 60}, \"scene\": {\"domain\": {\"x\": [0.0, 1.0], \"y\": [0.0, 1.0]}, \"xaxis\": {\"title\": {\"text\": \"Age\"}}, \"yaxis\": {\"title\": {\"text\": \"Cholesterol\"}}, \"zaxis\": {\"title\": {\"text\": \"Na_to_K\"}}}, \"template\": {\"data\": {\"bar\": [{\"error_x\": {\"color\": \"#2a3f5f\"}, \"error_y\": {\"color\": \"#2a3f5f\"}, \"marker\": {\"line\": {\"color\": \"#E5ECF6\", \"width\": 0.5}}, \"type\": \"bar\"}], \"barpolar\": [{\"marker\": {\"line\": {\"color\": \"#E5ECF6\", \"width\": 0.5}}, \"type\": \"barpolar\"}], \"carpet\": [{\"aaxis\": {\"endlinecolor\": \"#2a3f5f\", \"gridcolor\": \"white\", \"linecolor\": \"white\", \"minorgridcolor\": \"white\", \"startlinecolor\": \"#2a3f5f\"}, \"baxis\": {\"endlinecolor\": \"#2a3f5f\", \"gridcolor\": \"white\", \"linecolor\": \"white\", \"minorgridcolor\": \"white\", \"startlinecolor\": \"#2a3f5f\"}, \"type\": \"carpet\"}], \"choropleth\": [{\"colorbar\": {\"outlinewidth\": 0, \"ticks\": \"\"}, \"type\": \"choropleth\"}], \"contour\": [{\"colorbar\": {\"outlinewidth\": 0, \"ticks\": \"\"}, \"colorscale\": [[0.0, \"#0d0887\"], [0.1111111111111111, \"#46039f\"], [0.2222222222222222, \"#7201a8\"], [0.3333333333333333, \"#9c179e\"], [0.4444444444444444, \"#bd3786\"], [0.5555555555555556, \"#d8576b\"], [0.6666666666666666, \"#ed7953\"], [0.7777777777777778, \"#fb9f3a\"], [0.8888888888888888, \"#fdca26\"], [1.0, \"#f0f921\"]], \"type\": \"contour\"}], \"contourcarpet\": [{\"colorbar\": {\"outlinewidth\": 0, \"ticks\": \"\"}, \"type\": \"contourcarpet\"}], \"heatmap\": [{\"colorbar\": {\"outlinewidth\": 0, \"ticks\": \"\"}, \"colorscale\": [[0.0, \"#0d0887\"], [0.1111111111111111, \"#46039f\"], [0.2222222222222222, \"#7201a8\"], [0.3333333333333333, \"#9c179e\"], [0.4444444444444444, \"#bd3786\"], [0.5555555555555556, \"#d8576b\"], [0.6666666666666666, \"#ed7953\"], [0.7777777777777778, \"#fb9f3a\"], [0.8888888888888888, \"#fdca26\"], [1.0, \"#f0f921\"]], \"type\": \"heatmap\"}], \"heatmapgl\": [{\"colorbar\": {\"outlinewidth\": 0, \"ticks\": \"\"}, \"colorscale\": [[0.0, \"#0d0887\"], [0.1111111111111111, \"#46039f\"], [0.2222222222222222, \"#7201a8\"], [0.3333333333333333, \"#9c179e\"], [0.4444444444444444, \"#bd3786\"], [0.5555555555555556, \"#d8576b\"], [0.6666666666666666, \"#ed7953\"], [0.7777777777777778, \"#fb9f3a\"], [0.8888888888888888, \"#fdca26\"], [1.0, \"#f0f921\"]], \"type\": \"heatmapgl\"}], \"histogram\": [{\"marker\": {\"colorbar\": {\"outlinewidth\": 0, \"ticks\": \"\"}}, \"type\": \"histogram\"}], \"histogram2d\": [{\"colorbar\": {\"outlinewidth\": 0, \"ticks\": \"\"}, \"colorscale\": [[0.0, \"#0d0887\"], [0.1111111111111111, \"#46039f\"], [0.2222222222222222, \"#7201a8\"], [0.3333333333333333, \"#9c179e\"], [0.4444444444444444, \"#bd3786\"], [0.5555555555555556, \"#d8576b\"], [0.6666666666666666, \"#ed7953\"], [0.7777777777777778, \"#fb9f3a\"], [0.8888888888888888, \"#fdca26\"], [1.0, \"#f0f921\"]], \"type\": \"histogram2d\"}], \"histogram2dcontour\": [{\"colorbar\": {\"outlinewidth\": 0, \"ticks\": \"\"}, \"colorscale\": [[0.0, \"#0d0887\"], [0.1111111111111111, \"#46039f\"], [0.2222222222222222, \"#7201a8\"], [0.3333333333333333, \"#9c179e\"], [0.4444444444444444, \"#bd3786\"], [0.5555555555555556, \"#d8576b\"], [0.6666666666666666, \"#ed7953\"], [0.7777777777777778, \"#fb9f3a\"], [0.8888888888888888, \"#fdca26\"], [1.0, \"#f0f921\"]], \"type\": \"histogram2dcontour\"}], \"mesh3d\": [{\"colorbar\": {\"outlinewidth\": 0, \"ticks\": \"\"}, \"type\": \"mesh3d\"}], \"parcoords\": [{\"line\": {\"colorbar\": {\"outlinewidth\": 0, \"ticks\": \"\"}}, \"type\": \"parcoords\"}], \"pie\": [{\"automargin\": true, \"type\": \"pie\"}], \"scatter\": [{\"marker\": {\"colorbar\": {\"outlinewidth\": 0, \"ticks\": \"\"}}, \"type\": \"scatter\"}], \"scatter3d\": [{\"line\": {\"colorbar\": {\"outlinewidth\": 0, \"ticks\": \"\"}}, \"marker\": {\"colorbar\": {\"outlinewidth\": 0, \"ticks\": \"\"}}, \"type\": \"scatter3d\"}], \"scattercarpet\": [{\"marker\": {\"colorbar\": {\"outlinewidth\": 0, \"ticks\": \"\"}}, \"type\": \"scattercarpet\"}], \"scattergeo\": [{\"marker\": {\"colorbar\": {\"outlinewidth\": 0, \"ticks\": \"\"}}, \"type\": \"scattergeo\"}], \"scattergl\": [{\"marker\": {\"colorbar\": {\"outlinewidth\": 0, \"ticks\": \"\"}}, \"type\": \"scattergl\"}], \"scattermapbox\": [{\"marker\": {\"colorbar\": {\"outlinewidth\": 0, \"ticks\": \"\"}}, \"type\": \"scattermapbox\"}], \"scatterpolar\": [{\"marker\": {\"colorbar\": {\"outlinewidth\": 0, \"ticks\": \"\"}}, \"type\": \"scatterpolar\"}], \"scatterpolargl\": [{\"marker\": {\"colorbar\": {\"outlinewidth\": 0, \"ticks\": \"\"}}, \"type\": \"scatterpolargl\"}], \"scatterternary\": [{\"marker\": {\"colorbar\": {\"outlinewidth\": 0, \"ticks\": \"\"}}, \"type\": \"scatterternary\"}], \"surface\": [{\"colorbar\": {\"outlinewidth\": 0, \"ticks\": \"\"}, \"colorscale\": [[0.0, \"#0d0887\"], [0.1111111111111111, \"#46039f\"], [0.2222222222222222, \"#7201a8\"], [0.3333333333333333, \"#9c179e\"], [0.4444444444444444, \"#bd3786\"], [0.5555555555555556, \"#d8576b\"], [0.6666666666666666, \"#ed7953\"], [0.7777777777777778, \"#fb9f3a\"], [0.8888888888888888, \"#fdca26\"], [1.0, \"#f0f921\"]], \"type\": \"surface\"}], \"table\": [{\"cells\": {\"fill\": {\"color\": \"#EBF0F8\"}, \"line\": {\"color\": \"white\"}}, \"header\": {\"fill\": {\"color\": \"#C8D4E3\"}, \"line\": {\"color\": \"white\"}}, \"type\": \"table\"}]}, \"layout\": {\"annotationdefaults\": {\"arrowcolor\": \"#2a3f5f\", \"arrowhead\": 0, \"arrowwidth\": 1}, \"coloraxis\": {\"colorbar\": {\"outlinewidth\": 0, \"ticks\": \"\"}}, \"colorscale\": {\"diverging\": [[0, \"#8e0152\"], [0.1, \"#c51b7d\"], [0.2, \"#de77ae\"], [0.3, \"#f1b6da\"], [0.4, \"#fde0ef\"], [0.5, \"#f7f7f7\"], [0.6, \"#e6f5d0\"], [0.7, \"#b8e186\"], [0.8, \"#7fbc41\"], [0.9, \"#4d9221\"], [1, \"#276419\"]], \"sequential\": [[0.0, \"#0d0887\"], [0.1111111111111111, \"#46039f\"], [0.2222222222222222, \"#7201a8\"], [0.3333333333333333, \"#9c179e\"], [0.4444444444444444, \"#bd3786\"], [0.5555555555555556, \"#d8576b\"], [0.6666666666666666, \"#ed7953\"], [0.7777777777777778, \"#fb9f3a\"], [0.8888888888888888, \"#fdca26\"], [1.0, \"#f0f921\"]], \"sequentialminus\": [[0.0, \"#0d0887\"], [0.1111111111111111, \"#46039f\"], [0.2222222222222222, \"#7201a8\"], [0.3333333333333333, \"#9c179e\"], [0.4444444444444444, \"#bd3786\"], [0.5555555555555556, \"#d8576b\"], [0.6666666666666666, \"#ed7953\"], [0.7777777777777778, \"#fb9f3a\"], [0.8888888888888888, \"#fdca26\"], [1.0, \"#f0f921\"]]}, \"colorway\": [\"#636efa\", \"#EF553B\", \"#00cc96\", \"#ab63fa\", \"#FFA15A\", \"#19d3f3\", \"#FF6692\", \"#B6E880\", \"#FF97FF\", \"#FECB52\"], \"font\": {\"color\": \"#2a3f5f\"}, \"geo\": {\"bgcolor\": \"white\", \"lakecolor\": \"white\", \"landcolor\": \"#E5ECF6\", \"showlakes\": true, \"showland\": true, \"subunitcolor\": \"white\"}, \"hoverlabel\": {\"align\": \"left\"}, \"hovermode\": \"closest\", \"mapbox\": {\"style\": \"light\"}, \"paper_bgcolor\": \"white\", \"plot_bgcolor\": \"#E5ECF6\", \"polar\": {\"angularaxis\": {\"gridcolor\": \"white\", \"linecolor\": \"white\", \"ticks\": \"\"}, \"bgcolor\": \"#E5ECF6\", \"radialaxis\": {\"gridcolor\": \"white\", \"linecolor\": \"white\", \"ticks\": \"\"}}, \"scene\": {\"xaxis\": {\"backgroundcolor\": \"#E5ECF6\", \"gridcolor\": \"white\", \"gridwidth\": 2, \"linecolor\": \"white\", \"showbackground\": true, \"ticks\": \"\", \"zerolinecolor\": \"white\"}, \"yaxis\": {\"backgroundcolor\": \"#E5ECF6\", \"gridcolor\": \"white\", \"gridwidth\": 2, \"linecolor\": \"white\", \"showbackground\": true, \"ticks\": \"\", \"zerolinecolor\": \"white\"}, \"zaxis\": {\"backgroundcolor\": \"#E5ECF6\", \"gridcolor\": \"white\", \"gridwidth\": 2, \"linecolor\": \"white\", \"showbackground\": true, \"ticks\": \"\", \"zerolinecolor\": \"white\"}}, \"shapedefaults\": {\"line\": {\"color\": \"#2a3f5f\"}}, \"ternary\": {\"aaxis\": {\"gridcolor\": \"white\", \"linecolor\": \"white\", \"ticks\": \"\"}, \"baxis\": {\"gridcolor\": \"white\", \"linecolor\": \"white\", \"ticks\": \"\"}, \"bgcolor\": \"#E5ECF6\", \"caxis\": {\"gridcolor\": \"white\", \"linecolor\": \"white\", \"ticks\": \"\"}}, \"title\": {\"x\": 0.05}, \"xaxis\": {\"automargin\": true, \"gridcolor\": \"white\", \"linecolor\": \"white\", \"ticks\": \"\", \"title\": {\"standoff\": 15}, \"zerolinecolor\": \"white\", \"zerolinewidth\": 2}, \"yaxis\": {\"automargin\": true, \"gridcolor\": \"white\", \"linecolor\": \"white\", \"ticks\": \"\", \"title\": {\"standoff\": 15}, \"zerolinecolor\": \"white\", \"zerolinewidth\": 2}}}},\n",
              "                        {\"responsive\": true}\n",
              "                    ).then(function(){\n",
              "                            \n",
              "var gd = document.getElementById('2cdaf57c-e9fe-46e2-b941-26ab284c2d8e');\n",
              "var x = new MutationObserver(function (mutations, observer) {{\n",
              "        var display = window.getComputedStyle(gd).display;\n",
              "        if (!display || display === 'none') {{\n",
              "            console.log([gd, 'removed!']);\n",
              "            Plotly.purge(gd);\n",
              "            observer.disconnect();\n",
              "        }}\n",
              "}});\n",
              "\n",
              "// Listen for the removal of the full notebook cells\n",
              "var notebookContainer = gd.closest('#notebook-container');\n",
              "if (notebookContainer) {{\n",
              "    x.observe(notebookContainer, {childList: true});\n",
              "}}\n",
              "\n",
              "// Listen for the clearing of the current output cell\n",
              "var outputEl = gd.closest('.output');\n",
              "if (outputEl) {{\n",
              "    x.observe(outputEl, {childList: true});\n",
              "}}\n",
              "\n",
              "                        })\n",
              "                };\n",
              "                \n",
              "            </script>\n",
              "        </div>\n",
              "</body>\n",
              "</html>"
            ]
          },
          "metadata": {}
        }
      ]
    },
    {
      "cell_type": "markdown",
      "source": [
        "Moreover, if we split the scatterplot based on the Cholesterol column, we can see that almost the similar trend can be observed for both high and normal cholesterol. \\\n",
        "These scatterplots also suggest that Age doesn't have a strong effect on the the Drug treatment and imputing the missing values on age with simple method won't be much of a problem and since age is numerical, the most suitable method is to impute with the mean.   "
      ],
      "metadata": {
        "id": "fGFNBwWRYCP5"
      }
    },
    {
      "cell_type": "markdown",
      "source": [
        "# Machine Learning\n",
        "The task is to help doctors recommend the best type of drug treatment for at-risk patients. Create a machine learning model using the information about the patients found in this dataset to help advise the doctors’ treatment choice. Since the dataset contains the Drug treatment of each patient, this makes it a supervised classification problem. Moreover, since we want to identify the best treatment for a patient, not just which patient will fall into one of the classes, the metric that we should prioritize is the accuracy."
      ],
      "metadata": {
        "id": "RmjUwwERiWEl"
      }
    },
    {
      "cell_type": "code",
      "source": [
        "# Define the targets and features\n",
        "X = df.drop(columns = ['Drug'])\n",
        "y = df.Drug"
      ],
      "metadata": {
        "id": "63dKMqpld-DR"
      },
      "execution_count": 44,
      "outputs": []
    },
    {
      "cell_type": "code",
      "source": [
        "# split to test and train\n",
        "X_train, X_test, y_train, y_test = train_test_split(X, y, random_state=42, stratify=y)"
      ],
      "metadata": {
        "id": "0v3xTziZew6y"
      },
      "execution_count": 57,
      "outputs": []
    },
    {
      "cell_type": "code",
      "source": [
        "# create a pipeline\n",
        "\n",
        "\n",
        "## Column transformation\n",
        "\n",
        "### Select categorical and numerical columns\n",
        "num_selector = make_column_selector(dtype_include='number')\n",
        "cat_selector = make_column_selector(dtype_include='object')\n",
        "\n",
        "### Instantiate Transformers\n",
        "mean_imputer = SimpleImputer(strategy='mean')\n",
        "freq_imputer = SimpleImputer(strategy='most_frequent')\n",
        "scaler = StandardScaler()\n",
        "ohe_encoder = OneHotEncoder(sparse=False, handle_unknown='ignore')\n",
        "\n",
        "### Make Pipelines for each column type\n",
        "num_pipe = make_pipeline(mean_imputer, scaler)\n",
        "cat_pipe = make_pipeline(freq_imputer, ohe_encoder)\n",
        "\n",
        "### Match pipe to column\n",
        "num_tuple = (num_pipe, num_selector)\n",
        "cat_tuple = (cat_pipe, cat_selector)\n",
        "\n",
        "### Make column Transformer\n",
        "column_transformer = make_column_transformer(num_tuple, cat_tuple)\n",
        "\n",
        "\n",
        "# Pipeline adapted from http://learn.codingdojo.com/m/213/7153/67078"
      ],
      "metadata": {
        "id": "4v-34CBGftDM"
      },
      "execution_count": 49,
      "outputs": []
    },
    {
      "cell_type": "markdown",
      "source": [
        "In this pipeline, one-hot encoding was used instead of ordinal encoding since it is easy to implement and the dataset is relatively small with only few categories, a small increase in the dimensionality won't be a problem to the model and the computation time."
      ],
      "metadata": {
        "id": "Mcqo1jgMgztH"
      }
    },
    {
      "cell_type": "markdown",
      "source": [
        "## Default parameters Classification Model"
      ],
      "metadata": {
        "id": "gkCfjHcJhnfZ"
      }
    },
    {
      "cell_type": "markdown",
      "source": [
        "### KNN"
      ],
      "metadata": {
        "id": "d2HtO_JVhzYM"
      }
    },
    {
      "cell_type": "code",
      "source": [
        "# Instantiate the pipeline with the model\n",
        "temp_model = make_pipeline(column_transformer, KNeighborsClassifier())\n",
        "\n",
        "# Train the model\n",
        "temp_model.fit(X_train, y_train)\n",
        "\n",
        "# Get the model accuracy\n",
        "model_train = temp_model.score(X_train, y_train) \n",
        "model_test = temp_model.score(X_test, y_test)\n",
        "    \n",
        "# Show the results\n",
        "print(f'Train Accuracy: {model_train:.3f}')\n",
        "print(f'Test Accuracy: {model_test:.3f}')"
      ],
      "metadata": {
        "colab": {
          "base_uri": "https://localhost:8080/"
        },
        "id": "A709BYMlhmoP",
        "outputId": "941aa5d3-687b-48d2-b2d4-50c80e251a1e"
      },
      "execution_count": 62,
      "outputs": [
        {
          "output_type": "stream",
          "name": "stdout",
          "text": [
            "Train Accuracy: 0.910\n",
            "Test Accuracy: 0.865\n"
          ]
        }
      ]
    },
    {
      "cell_type": "markdown",
      "source": [
        "### Decision Tree"
      ],
      "metadata": {
        "id": "pJ3oYmAwjzFZ"
      }
    },
    {
      "cell_type": "code",
      "source": [
        "# Instantiate the pipeline with the model\n",
        "temp_model = make_pipeline(column_transformer, DecisionTreeClassifier())\n",
        "\n",
        "# Train the model\n",
        "temp_model.fit(X_train, y_train)\n",
        "\n",
        "# Get the model accuracy\n",
        "model_train = temp_model.score(X_train, y_train) \n",
        "model_test = temp_model.score(X_test, y_test)\n",
        "\n",
        "# Show the results\n",
        "print(f'Train Accuracy: {model_train:.3f}')\n",
        "print(f'Test Accuracy: {model_test:.3f}')"
      ],
      "metadata": {
        "colab": {
          "base_uri": "https://localhost:8080/"
        },
        "id": "d7emxwg1j2ei",
        "outputId": "5add06e9-ae6d-4cd5-8927-18cfe9cdd75c"
      },
      "execution_count": 64,
      "outputs": [
        {
          "output_type": "stream",
          "name": "stdout",
          "text": [
            "Train Accuracy: 1.000\n",
            "Test Accuracy: 0.973\n"
          ]
        }
      ]
    },
    {
      "cell_type": "markdown",
      "source": [
        "### Bagged Trees "
      ],
      "metadata": {
        "id": "Gis2jiD0lDrC"
      }
    },
    {
      "cell_type": "code",
      "source": [
        "\n",
        "# Instantiate the pipeline with the model\n",
        "temp_model = make_pipeline(column_transformer, BaggingClassifier())\n",
        "\n",
        "# Train the model\n",
        "temp_model.fit(X_train, y_train)\n",
        "\n",
        "# Get the model accuracy\n",
        "model_train = temp_model.score(X_train, y_train) \n",
        "model_test = temp_model.score(X_test, y_test)\n",
        "\n",
        "# Show the results\n",
        "print(f'Train Accuracy: {model_train:.3f}')\n",
        "print(f'Test Accuracy: {model_test:.3f}')"
      ],
      "metadata": {
        "colab": {
          "base_uri": "https://localhost:8080/"
        },
        "id": "meRSjYL-lJl7",
        "outputId": "95510dbd-999c-4832-dbd9-7939bc7cb780"
      },
      "execution_count": 65,
      "outputs": [
        {
          "output_type": "stream",
          "name": "stdout",
          "text": [
            "Train Accuracy: 0.986\n",
            "Test Accuracy: 0.973\n"
          ]
        }
      ]
    },
    {
      "cell_type": "markdown",
      "source": [
        "### Random Forest"
      ],
      "metadata": {
        "id": "h7R3Hqr7lS6P"
      }
    },
    {
      "cell_type": "code",
      "source": [
        "# Instantiate the pipeline with the model\n",
        "temp_model = make_pipeline(column_transformer, RandomForestClassifier())\n",
        "\n",
        "# Train the model\n",
        "temp_model.fit(X_train, y_train)\n",
        "\n",
        "# Get the model accuracy\n",
        "model_train = temp_model.score(X_train, y_train) \n",
        "model_test = temp_model.score(X_test, y_test)\n",
        "\n",
        "# Show the results\n",
        "print(f'Train Accuracy: {model_train:.3f}')\n",
        "print(f'Test Accuracy: {model_test:.3f}')"
      ],
      "metadata": {
        "colab": {
          "base_uri": "https://localhost:8080/"
        },
        "id": "3n09_ULVlR-r",
        "outputId": "b9170566-bfc2-4e4e-a557-3edff84fec16"
      },
      "execution_count": 66,
      "outputs": [
        {
          "output_type": "stream",
          "name": "stdout",
          "text": [
            "Train Accuracy: 1.000\n",
            "Test Accuracy: 0.946\n"
          ]
        }
      ]
    },
    {
      "cell_type": "markdown",
      "source": [
        "### GBC"
      ],
      "metadata": {
        "id": "ZcG4kYDElqAI"
      }
    },
    {
      "cell_type": "code",
      "source": [
        "# Instantiate the pipeline with the model\n",
        "temp_model = make_pipeline(column_transformer, GradientBoostingClassifier())\n",
        "\n",
        "# Train the model\n",
        "temp_model.fit(X_train, y_train)\n",
        "\n",
        "# Get the model accuracy\n",
        "model_train = temp_model.score(X_train, y_train) \n",
        "model_test = temp_model.score(X_test, y_test)\n",
        "\n",
        "# Show the results\n",
        "print(f'Train Accuracy: {model_train:.3f}')\n",
        "print(f'Test Accuracy: {model_test:.3f}')"
      ],
      "metadata": {
        "colab": {
          "base_uri": "https://localhost:8080/"
        },
        "id": "H-QpnjbXlpFQ",
        "outputId": "7f291008-aebf-4644-a485-2d61b9993fb5"
      },
      "execution_count": 68,
      "outputs": [
        {
          "output_type": "stream",
          "name": "stdout",
          "text": [
            "Train Accuracy: 1.000\n",
            "Test Accuracy: 0.959\n"
          ]
        }
      ]
    },
    {
      "cell_type": "markdown",
      "source": [
        "### LGBM"
      ],
      "metadata": {
        "id": "Um-IcnP9l7Od"
      }
    },
    {
      "cell_type": "code",
      "source": [
        "#import\n",
        "from lightgbm import LGBMClassifier\n",
        "\n",
        "# Instantiate the pipeline with the model\n",
        "temp_model = make_pipeline(column_transformer, LGBMClassifier())\n",
        "\n",
        "# Train the model\n",
        "temp_model.fit(X_train, y_train)\n",
        "\n",
        "# Get the model accuracy\n",
        "model_train = temp_model.score(X_train, y_train) \n",
        "model_test = temp_model.score(X_test, y_test)\n",
        "\n",
        "# Show the results\n",
        "print(f'Train Accuracy: {model_train:.3f}')\n",
        "print(f'Test Accuracy: {model_test:.3f}')"
      ],
      "metadata": {
        "colab": {
          "base_uri": "https://localhost:8080/"
        },
        "id": "8CIsEu0-l8rx",
        "outputId": "3ea07823-3b50-4316-b0e2-73688c82170a"
      },
      "execution_count": 69,
      "outputs": [
        {
          "output_type": "stream",
          "name": "stdout",
          "text": [
            "Train Accuracy: 0.982\n",
            "Test Accuracy: 0.905\n"
          ]
        }
      ]
    },
    {
      "cell_type": "markdown",
      "source": [
        "### XGBoost"
      ],
      "metadata": {
        "id": "4Txw-diemJ1A"
      }
    },
    {
      "cell_type": "code",
      "source": [
        "# import\n",
        "from xgboost import XGBClassifier\n",
        "\n",
        "# Instantiate the pipeline with the model\n",
        "temp_model = make_pipeline(column_transformer, XGBClassifier())\n",
        "\n",
        "# Train the model\n",
        "temp_model.fit(X_train, y_train)\n",
        "\n",
        "# Get the model accuracy\n",
        "model_train = temp_model.score(X_train, y_train) \n",
        "model_test = temp_model.score(X_test, y_test)\n",
        "\n",
        "# Show the results\n",
        "print(f'Train Accuracy: {model_train:.3f}')\n",
        "print(f'Test Accuracy: {model_test:.3f}')"
      ],
      "metadata": {
        "colab": {
          "base_uri": "https://localhost:8080/"
        },
        "id": "s27jVWF7mJCd",
        "outputId": "c387b445-74f9-443a-f1af-fca0a9283655"
      },
      "execution_count": 70,
      "outputs": [
        {
          "output_type": "stream",
          "name": "stdout",
          "text": [
            "Train Accuracy: 0.982\n",
            "Test Accuracy: 0.959\n"
          ]
        }
      ]
    },
    {
      "cell_type": "markdown",
      "source": [
        "Of all the considered classification models, the Decision Tree Classifier has the highest accuracy score for both the train and test sets with scores of 1.0 and 0.973. Additionally, these values are pretty close which means that the model does not overfit. The next best model is Bagged Trees with almost the same scores of 0.986 and 0.973. These two models will be considered for hyperparameter tuning."
      ],
      "metadata": {
        "id": "slV_AkJLmURU"
      }
    },
    {
      "cell_type": "markdown",
      "source": [
        "# Optimal Decision Tree"
      ],
      "metadata": {
        "id": "sDTi822tnSSP"
      }
    },
    {
      "cell_type": "code",
      "source": [
        "# Instantiate the model\n",
        "dt = DecisionTreeClassifier()\n",
        "\n",
        "# Instantiate the pipeline with the model\n",
        "dt_pipe = make_pipeline(column_transformer, dt)\n",
        "\n",
        "# Train the model\n",
        "dt_pipe.fit(X_train, y_train)\n",
        "\n",
        "# Show default parameters\n",
        "dt.get_params()"
      ],
      "metadata": {
        "colab": {
          "base_uri": "https://localhost:8080/"
        },
        "id": "46ieVcekn-8j",
        "outputId": "c92eb9e3-13c7-443f-899e-5c6ff2e8b103"
      },
      "execution_count": 136,
      "outputs": [
        {
          "output_type": "execute_result",
          "data": {
            "text/plain": [
              "{'ccp_alpha': 0.0,\n",
              " 'class_weight': None,\n",
              " 'criterion': 'gini',\n",
              " 'max_depth': None,\n",
              " 'max_features': None,\n",
              " 'max_leaf_nodes': None,\n",
              " 'min_impurity_decrease': 0.0,\n",
              " 'min_samples_leaf': 1,\n",
              " 'min_samples_split': 2,\n",
              " 'min_weight_fraction_leaf': 0.0,\n",
              " 'random_state': None,\n",
              " 'splitter': 'best'}"
            ]
          },
          "metadata": {},
          "execution_count": 136
        }
      ]
    },
    {
      "cell_type": "code",
      "source": [
        "# GridSearch\n",
        "# Adapted from https://colab.research.google.com/drive/1OfZl5AkIbyNtY-F0p8FXqtOKOE9ry31r?usp=sharing#scrollTo=tSG-KcR8yGWu\n",
        "# By Sir Marvin\n",
        "\n",
        "# define the range of values per hyperparameter\n",
        "min_samples_leaf_range = [1,5]\n",
        "random_state_range = [0,42]\n",
        "min_samples_split_range = [2,5]\n",
        "\n",
        "best_score = 0\n",
        "best_model = 0\n",
        "\n",
        "# for each possible combination of hyperparameters\n",
        "for min_samples_leaf in range(min_samples_leaf_range[0], min_samples_leaf_range[1] + 1, 1):\n",
        "  for random_state in range(random_state_range[0], random_state_range[1] + 1, 1):\n",
        "    for min_samples_split in range(min_samples_split_range[0], min_samples_split_range[1] + 1, 2):\n",
        "\n",
        "      # initialize the model according to the hyperparameters given\n",
        "      dt = DecisionTreeClassifier(min_samples_leaf=min_samples_leaf, \n",
        "                                  min_samples_split=min_samples_split,\n",
        "                                  random_state = random_state\n",
        "                                  )\n",
        "      \n",
        "      # Instantiate pipeline\n",
        "      dt_pipe = make_pipeline(column_transformer, dt)\n",
        "\n",
        "      # train\n",
        "      dt_pipe.fit(X_train, y_train)\n",
        "\n",
        "      # check training performance\n",
        "      train_score = dt_pipe.score(X_train, y_train)\n",
        "\n",
        "      # check testing performance\n",
        "      test_score = dt_pipe.score(X_test, y_test)\n",
        "\n",
        "      # print(train_score.round(3), test_score.round(3))\n",
        "\n",
        "      # if the current score is the best score, save\n",
        "      if test_score > best_score:\n",
        "        best_score = test_score\n",
        "        best_model = dt_pipe\n",
        "\n",
        "\n",
        "print(best_score, best_model.get_params())"
      ],
      "metadata": {
        "colab": {
          "base_uri": "https://localhost:8080/"
        },
        "id": "YQTHu5J2pT0R",
        "outputId": "25494d75-01d2-456e-c08c-6e1aafe39736"
      },
      "execution_count": 129,
      "outputs": [
        {
          "output_type": "stream",
          "name": "stdout",
          "text": [
            "0.9864864864864865 {'memory': None, 'steps': [('columntransformer', ColumnTransformer(transformers=[('pipeline-1',\n",
            "                                 Pipeline(steps=[('simpleimputer',\n",
            "                                                  SimpleImputer()),\n",
            "                                                 ('standardscaler',\n",
            "                                                  StandardScaler())]),\n",
            "                                 <sklearn.compose._column_transformer.make_column_selector object at 0x7f9262965210>),\n",
            "                                ('pipeline-2',\n",
            "                                 Pipeline(steps=[('simpleimputer',\n",
            "                                                  SimpleImputer(strategy='most_frequent')),\n",
            "                                                 ('onehotencoder',\n",
            "                                                  OneHotEncoder(handle_unknown='ignore',\n",
            "                                                                sparse=False))]),\n",
            "                                 <sklearn.compose._column_transformer.make_column_selector object at 0x7f9262965250>)])), ('decisiontreeclassifier', DecisionTreeClassifier(random_state=0))], 'verbose': False, 'columntransformer': ColumnTransformer(transformers=[('pipeline-1',\n",
            "                                 Pipeline(steps=[('simpleimputer',\n",
            "                                                  SimpleImputer()),\n",
            "                                                 ('standardscaler',\n",
            "                                                  StandardScaler())]),\n",
            "                                 <sklearn.compose._column_transformer.make_column_selector object at 0x7f9262965210>),\n",
            "                                ('pipeline-2',\n",
            "                                 Pipeline(steps=[('simpleimputer',\n",
            "                                                  SimpleImputer(strategy='most_frequent')),\n",
            "                                                 ('onehotencoder',\n",
            "                                                  OneHotEncoder(handle_unknown='ignore',\n",
            "                                                                sparse=False))]),\n",
            "                                 <sklearn.compose._column_transformer.make_column_selector object at 0x7f9262965250>)]), 'decisiontreeclassifier': DecisionTreeClassifier(random_state=0), 'columntransformer__n_jobs': None, 'columntransformer__remainder': 'drop', 'columntransformer__sparse_threshold': 0.3, 'columntransformer__transformer_weights': None, 'columntransformer__transformers': [('pipeline-1', Pipeline(steps=[('simpleimputer', SimpleImputer()),\n",
            "                ('standardscaler', StandardScaler())]), <sklearn.compose._column_transformer.make_column_selector object at 0x7f9262965210>), ('pipeline-2', Pipeline(steps=[('simpleimputer', SimpleImputer(strategy='most_frequent')),\n",
            "                ('onehotencoder',\n",
            "                 OneHotEncoder(handle_unknown='ignore', sparse=False))]), <sklearn.compose._column_transformer.make_column_selector object at 0x7f9262965250>)], 'columntransformer__verbose': False, 'columntransformer__verbose_feature_names_out': True, 'columntransformer__pipeline-1': Pipeline(steps=[('simpleimputer', SimpleImputer()),\n",
            "                ('standardscaler', StandardScaler())]), 'columntransformer__pipeline-2': Pipeline(steps=[('simpleimputer', SimpleImputer(strategy='most_frequent')),\n",
            "                ('onehotencoder',\n",
            "                 OneHotEncoder(handle_unknown='ignore', sparse=False))]), 'columntransformer__pipeline-1__memory': None, 'columntransformer__pipeline-1__steps': [('simpleimputer', SimpleImputer()), ('standardscaler', StandardScaler())], 'columntransformer__pipeline-1__verbose': False, 'columntransformer__pipeline-1__simpleimputer': SimpleImputer(), 'columntransformer__pipeline-1__standardscaler': StandardScaler(), 'columntransformer__pipeline-1__simpleimputer__add_indicator': False, 'columntransformer__pipeline-1__simpleimputer__copy': True, 'columntransformer__pipeline-1__simpleimputer__fill_value': None, 'columntransformer__pipeline-1__simpleimputer__missing_values': nan, 'columntransformer__pipeline-1__simpleimputer__strategy': 'mean', 'columntransformer__pipeline-1__simpleimputer__verbose': 0, 'columntransformer__pipeline-1__standardscaler__copy': True, 'columntransformer__pipeline-1__standardscaler__with_mean': True, 'columntransformer__pipeline-1__standardscaler__with_std': True, 'columntransformer__pipeline-2__memory': None, 'columntransformer__pipeline-2__steps': [('simpleimputer', SimpleImputer(strategy='most_frequent')), ('onehotencoder', OneHotEncoder(handle_unknown='ignore', sparse=False))], 'columntransformer__pipeline-2__verbose': False, 'columntransformer__pipeline-2__simpleimputer': SimpleImputer(strategy='most_frequent'), 'columntransformer__pipeline-2__onehotencoder': OneHotEncoder(handle_unknown='ignore', sparse=False), 'columntransformer__pipeline-2__simpleimputer__add_indicator': False, 'columntransformer__pipeline-2__simpleimputer__copy': True, 'columntransformer__pipeline-2__simpleimputer__fill_value': None, 'columntransformer__pipeline-2__simpleimputer__missing_values': nan, 'columntransformer__pipeline-2__simpleimputer__strategy': 'most_frequent', 'columntransformer__pipeline-2__simpleimputer__verbose': 0, 'columntransformer__pipeline-2__onehotencoder__categories': 'auto', 'columntransformer__pipeline-2__onehotencoder__drop': None, 'columntransformer__pipeline-2__onehotencoder__dtype': <class 'numpy.float64'>, 'columntransformer__pipeline-2__onehotencoder__handle_unknown': 'ignore', 'columntransformer__pipeline-2__onehotencoder__sparse': False, 'decisiontreeclassifier__ccp_alpha': 0.0, 'decisiontreeclassifier__class_weight': None, 'decisiontreeclassifier__criterion': 'gini', 'decisiontreeclassifier__max_depth': None, 'decisiontreeclassifier__max_features': None, 'decisiontreeclassifier__max_leaf_nodes': None, 'decisiontreeclassifier__min_impurity_decrease': 0.0, 'decisiontreeclassifier__min_samples_leaf': 1, 'decisiontreeclassifier__min_samples_split': 2, 'decisiontreeclassifier__min_weight_fraction_leaf': 0.0, 'decisiontreeclassifier__random_state': 0, 'decisiontreeclassifier__splitter': 'best'}\n"
          ]
        }
      ]
    },
    {
      "cell_type": "code",
      "source": [
        "# Instantiate the model according to the best hyperparameters\n",
        "dt = DecisionTreeClassifier(min_samples_leaf = 1, min_samples_split = 2, random_state = 0)\n",
        "\n",
        "# Instantiate the pipeline with the model\n",
        "dt_pipe = make_pipeline(column_transformer, dt)\n",
        "\n",
        "# Train the model\n",
        "dt_pipe.fit(X_train, y_train)\n",
        "\n",
        "# Get the model accuracy\n",
        "model_train = dt_pipe.score(X_train, y_train) \n",
        "model_test = dt_pipe.score(X_test, y_test)\n",
        "\n",
        "# Create test predictions\n",
        "dt_pipe_pred = dt_pipe.predict(X_test)\n",
        "\n",
        "# Show the results\n",
        "print(f'Train Accuracy: {model_train:.3f}')\n",
        "print(f'Test Accuracy: {model_test:.3f}')"
      ],
      "metadata": {
        "colab": {
          "base_uri": "https://localhost:8080/"
        },
        "id": "Wk6c_k9brsAT",
        "outputId": "5c390761-857a-4057-e385-a8970815ff2a"
      },
      "execution_count": 120,
      "outputs": [
        {
          "output_type": "stream",
          "name": "stdout",
          "text": [
            "Train Accuracy: 1.000\n",
            "Test Accuracy: 0.986\n"
          ]
        }
      ]
    },
    {
      "cell_type": "markdown",
      "source": [
        "## Metrics"
      ],
      "metadata": {
        "id": "qtNfmgBAvaYL"
      }
    },
    {
      "cell_type": "code",
      "source": [
        "# Train confusion matrix\n",
        "plot_confusion_matrix(dt_pipe, X_train, y_train, cmap = 'Blues');"
      ],
      "metadata": {
        "colab": {
          "base_uri": "https://localhost:8080/",
          "height": 373
        },
        "id": "p9KHyYK3unUG",
        "outputId": "9e3f7caa-1880-4c2d-b438-320677b27d49"
      },
      "execution_count": 115,
      "outputs": [
        {
          "output_type": "stream",
          "name": "stderr",
          "text": [
            "/usr/local/lib/python3.7/dist-packages/sklearn/utils/deprecation.py:87: FutureWarning:\n",
            "\n",
            "Function plot_confusion_matrix is deprecated; Function `plot_confusion_matrix` is deprecated in 1.0 and will be removed in 1.2. Use one of the class methods: ConfusionMatrixDisplay.from_predictions or ConfusionMatrixDisplay.from_estimator.\n",
            "\n"
          ]
        },
        {
          "output_type": "display_data",
          "data": {
            "image/png": "[encoded data removed]",
            "text/plain": [
              "<Figure size 432x288 with 2 Axes>"
            ]
          },
          "metadata": {
            "needs_background": "light"
          }
        }
      ]
    },
    {
      "cell_type": "code",
      "source": [
        "# Test confusion matrix\n",
        "plot_confusion_matrix(dt_pipe, X_test, y_test, cmap = 'Blues');"
      ],
      "metadata": {
        "colab": {
          "base_uri": "https://localhost:8080/",
          "height": 373
        },
        "id": "t_MlEchXu9fL",
        "outputId": "d4496c63-dcd1-4aff-bc04-757e73204bd1"
      },
      "execution_count": 116,
      "outputs": [
        {
          "output_type": "stream",
          "name": "stderr",
          "text": [
            "/usr/local/lib/python3.7/dist-packages/sklearn/utils/deprecation.py:87: FutureWarning:\n",
            "\n",
            "Function plot_confusion_matrix is deprecated; Function `plot_confusion_matrix` is deprecated in 1.0 and will be removed in 1.2. Use one of the class methods: ConfusionMatrixDisplay.from_predictions or ConfusionMatrixDisplay.from_estimator.\n",
            "\n"
          ]
        },
        {
          "output_type": "display_data",
          "data": {
            "image/png": "[encoded data removed]",
            "text/plain": [
              "<Figure size 432x288 with 2 Axes>"
            ]
          },
          "metadata": {
            "needs_background": "light"
          }
        }
      ]
    },
    {
      "cell_type": "code",
      "source": [
        "# Calculate the confusion matrix\n",
        "confusion_test = confusion_matrix(y_test, dt_pipe_pred)\n",
        "\n",
        "TP = confusion_test[1,1] # true positive \n",
        "TN = confusion_test[0,0] # true negatives\n",
        "FP = confusion_test[0,1] # false positives\n",
        "FN = confusion_test[1,0] # false negatives\n",
        "\n",
        "# Calculate the metrics\n",
        "sensitivity = TP / float(TP+FN)\n",
        "specificity = TN / float(TN+FP)\n",
        "\n",
        "# Print the metrics\n",
        "print(f'Test sensitivity = {sensitivity:.3f}')\n",
        "print(f'Test specificity = {specificity:.3f}')"
      ],
      "metadata": {
        "colab": {
          "base_uri": "https://localhost:8080/"
        },
        "id": "HXILm-tHwWpz",
        "outputId": "e1edfcec-dce5-4b5c-ea37-9d85c0c90863"
      },
      "execution_count": 125,
      "outputs": [
        {
          "output_type": "stream",
          "name": "stdout",
          "text": [
            "Test sensitivity = 0.973\n",
            "Test specificity = 1.000\n"
          ]
        }
      ]
    },
    {
      "cell_type": "code",
      "source": [
        "# visualize ROC curve for training\n",
        "plot_roc_curve(dt_pipe, X_train, y_train)\n",
        "plt.plot([0, 1], [0, 1], ls = '--', label = 'Baseline (AUC = 0.5)')\n",
        "plt.legend();"
      ],
      "metadata": {
        "colab": {
          "base_uri": "https://localhost:8080/",
          "height": 353
        },
        "id": "L28QFI2_xWHV",
        "outputId": "2ba97bd0-dbe0-4cbe-9ac6-a04e39c5bfdc"
      },
      "execution_count": 126,
      "outputs": [
        {
          "output_type": "stream",
          "name": "stderr",
          "text": [
            "/usr/local/lib/python3.7/dist-packages/sklearn/utils/deprecation.py:87: FutureWarning:\n",
            "\n",
            "Function plot_roc_curve is deprecated; Function `plot_roc_curve` is deprecated in 1.0 and will be removed in 1.2. Use one of the class methods: RocCurveDisplay.from_predictions or RocCurveDisplay.from_estimator.\n",
            "\n"
          ]
        },
        {
          "output_type": "display_data",
          "data": {
            "image/png": "[encoded data removed]",
            "text/plain": [
              "<Figure size 432x288 with 1 Axes>"
            ]
          },
          "metadata": {
            "needs_background": "light"
          }
        }
      ]
    },
    {
      "cell_type": "code",
      "source": [
        "# visualize ROC curve for testing\n",
        "plot_roc_curve(dt_pipe, X_test, y_test)\n",
        "plt.plot([0, 1], [0, 1], ls = '--', label = 'Baseline (AUC = 0.5)')\n",
        "plt.legend();"
      ],
      "metadata": {
        "colab": {
          "base_uri": "https://localhost:8080/",
          "height": 353
        },
        "id": "uFTcHsRhxhWp",
        "outputId": "b89ffea8-96a6-41df-d1a8-e500bc084ec1"
      },
      "execution_count": 128,
      "outputs": [
        {
          "output_type": "stream",
          "name": "stderr",
          "text": [
            "/usr/local/lib/python3.7/dist-packages/sklearn/utils/deprecation.py:87: FutureWarning:\n",
            "\n",
            "Function plot_roc_curve is deprecated; Function `plot_roc_curve` is deprecated in 1.0 and will be removed in 1.2. Use one of the class methods: RocCurveDisplay.from_predictions or RocCurveDisplay.from_estimator.\n",
            "\n"
          ]
        },
        {
          "output_type": "display_data",
          "data": {
            "image/png": "[encoded data removed]",
            "text/plain": [
              "<Figure size 432x288 with 1 Axes>"
            ]
          },
          "metadata": {
            "needs_background": "light"
          }
        }
      ]
    },
    {
      "cell_type": "markdown",
      "source": [
        "The optimized model got only one wrong prediction for the train and test set, combined. Additionally, the accuracy scores are very close which means that there is no overfitting."
      ],
      "metadata": {
        "id": "6T4yoIy9vFcz"
      }
    },
    {
      "cell_type": "markdown",
      "source": [
        "# Optimal Bagged trees"
      ],
      "metadata": {
        "id": "dH_QsQhvyAqx"
      }
    },
    {
      "cell_type": "code",
      "source": [
        "# Instantiate the model\n",
        "bg = BaggingClassifier()\n",
        "\n",
        "# Instantiate the pipeline with the model\n",
        "bg_pipe = make_pipeline(column_transformer, bg)\n",
        "\n",
        "# Train the model\n",
        "bg_pipe.fit(X_train, y_train)\n",
        "\n",
        "# Show default parameters\n",
        "bg.get_params()"
      ],
      "metadata": {
        "colab": {
          "base_uri": "https://localhost:8080/"
        },
        "id": "K5RSq4EKyCmi",
        "outputId": "cab3c5ce-74d0-47f4-9dda-c88e8ad7eb04"
      },
      "execution_count": 135,
      "outputs": [
        {
          "output_type": "execute_result",
          "data": {
            "text/plain": [
              "{'base_estimator': None,\n",
              " 'bootstrap': True,\n",
              " 'bootstrap_features': False,\n",
              " 'max_features': 1.0,\n",
              " 'max_samples': 1.0,\n",
              " 'n_estimators': 10,\n",
              " 'n_jobs': None,\n",
              " 'oob_score': False,\n",
              " 'random_state': None,\n",
              " 'verbose': 0,\n",
              " 'warm_start': False}"
            ]
          },
          "metadata": {},
          "execution_count": 135
        }
      ]
    },
    {
      "cell_type": "code",
      "source": [
        "# GridSearch\n",
        "# Adapted from https://colab.research.google.com/drive/1OfZl5AkIbyNtY-F0p8FXqtOKOE9ry31r?usp=sharing#scrollTo=tSG-KcR8yGWu\n",
        "# By Sir Marvin\n",
        "\n",
        "# define the range of values per hyperparameter\n",
        "n_estimators_range = [10,100]\n",
        "\n",
        "\n",
        "best_score = 0\n",
        "best_model = 0\n",
        "\n",
        "# for each possible combination of hyperparameters\n",
        "      for n_estimators in range(n_estimators_range[0], n_estimators_range[1] + 1, 10):\n",
        "\n",
        "        # initialize the model according to the hyperparameters given\n",
        "        bg = BaggingClassifier(max_features = 1.0,\n",
        "                                    random_state = 0,\n",
        "                                    #max_samples = max_samples,\n",
        "                                    n_estimators = n_estimators\n",
        "                                    )\n",
        "        \n",
        "        # Instantiate pipeline\n",
        "        bg_pipe = make_pipeline(column_transformer, bg)\n",
        "\n",
        "        # train\n",
        "        bg_pipe.fit(X_train, y_train)\n",
        "\n",
        "        # check training performance\n",
        "        train_score = bg_pipe.score(X_train, y_train)\n",
        "\n",
        "        # check testing performance\n",
        "        test_score = bg_pipe.score(X_test, y_test)\n",
        "\n",
        "        # print(train_score.round(3), test_score.round(3))\n",
        "\n",
        "        # if the current score is the best score, save\n",
        "        if test_score > best_score:\n",
        "          best_score = test_score\n",
        "          best_model = bg_pipe\n",
        "\n",
        "\n",
        "print(best_score, best_model.get_params())"
      ],
      "metadata": {
        "colab": {
          "base_uri": "https://localhost:8080/"
        },
        "id": "M4-tBCUY5bTZ",
        "outputId": "4171acf3-2aa7-4c16-90ef-12a77c17fcad"
      },
      "execution_count": 161,
      "outputs": [
        {
          "output_type": "stream",
          "name": "stdout",
          "text": [
            "0.9864864864864865 {'memory': None, 'steps': [('columntransformer', ColumnTransformer(transformers=[('pipeline-1',\n",
            "                                 Pipeline(steps=[('simpleimputer',\n",
            "                                                  SimpleImputer()),\n",
            "                                                 ('standardscaler',\n",
            "                                                  StandardScaler())]),\n",
            "                                 <sklearn.compose._column_transformer.make_column_selector object at 0x7f9262965210>),\n",
            "                                ('pipeline-2',\n",
            "                                 Pipeline(steps=[('simpleimputer',\n",
            "                                                  SimpleImputer(strategy='most_frequent')),\n",
            "                                                 ('onehotencoder',\n",
            "                                                  OneHotEncoder(handle_unknown='ignore',\n",
            "                                                                sparse=False))]),\n",
            "                                 <sklearn.compose._column_transformer.make_column_selector object at 0x7f9262965250>)])), ('baggingclassifier', BaggingClassifier(random_state=0))], 'verbose': False, 'columntransformer': ColumnTransformer(transformers=[('pipeline-1',\n",
            "                                 Pipeline(steps=[('simpleimputer',\n",
            "                                                  SimpleImputer()),\n",
            "                                                 ('standardscaler',\n",
            "                                                  StandardScaler())]),\n",
            "                                 <sklearn.compose._column_transformer.make_column_selector object at 0x7f9262965210>),\n",
            "                                ('pipeline-2',\n",
            "                                 Pipeline(steps=[('simpleimputer',\n",
            "                                                  SimpleImputer(strategy='most_frequent')),\n",
            "                                                 ('onehotencoder',\n",
            "                                                  OneHotEncoder(handle_unknown='ignore',\n",
            "                                                                sparse=False))]),\n",
            "                                 <sklearn.compose._column_transformer.make_column_selector object at 0x7f9262965250>)]), 'baggingclassifier': BaggingClassifier(random_state=0), 'columntransformer__n_jobs': None, 'columntransformer__remainder': 'drop', 'columntransformer__sparse_threshold': 0.3, 'columntransformer__transformer_weights': None, 'columntransformer__transformers': [('pipeline-1', Pipeline(steps=[('simpleimputer', SimpleImputer()),\n",
            "                ('standardscaler', StandardScaler())]), <sklearn.compose._column_transformer.make_column_selector object at 0x7f9262965210>), ('pipeline-2', Pipeline(steps=[('simpleimputer', SimpleImputer(strategy='most_frequent')),\n",
            "                ('onehotencoder',\n",
            "                 OneHotEncoder(handle_unknown='ignore', sparse=False))]), <sklearn.compose._column_transformer.make_column_selector object at 0x7f9262965250>)], 'columntransformer__verbose': False, 'columntransformer__verbose_feature_names_out': True, 'columntransformer__pipeline-1': Pipeline(steps=[('simpleimputer', SimpleImputer()),\n",
            "                ('standardscaler', StandardScaler())]), 'columntransformer__pipeline-2': Pipeline(steps=[('simpleimputer', SimpleImputer(strategy='most_frequent')),\n",
            "                ('onehotencoder',\n",
            "                 OneHotEncoder(handle_unknown='ignore', sparse=False))]), 'columntransformer__pipeline-1__memory': None, 'columntransformer__pipeline-1__steps': [('simpleimputer', SimpleImputer()), ('standardscaler', StandardScaler())], 'columntransformer__pipeline-1__verbose': False, 'columntransformer__pipeline-1__simpleimputer': SimpleImputer(), 'columntransformer__pipeline-1__standardscaler': StandardScaler(), 'columntransformer__pipeline-1__simpleimputer__add_indicator': False, 'columntransformer__pipeline-1__simpleimputer__copy': True, 'columntransformer__pipeline-1__simpleimputer__fill_value': None, 'columntransformer__pipeline-1__simpleimputer__missing_values': nan, 'columntransformer__pipeline-1__simpleimputer__strategy': 'mean', 'columntransformer__pipeline-1__simpleimputer__verbose': 0, 'columntransformer__pipeline-1__standardscaler__copy': True, 'columntransformer__pipeline-1__standardscaler__with_mean': True, 'columntransformer__pipeline-1__standardscaler__with_std': True, 'columntransformer__pipeline-2__memory': None, 'columntransformer__pipeline-2__steps': [('simpleimputer', SimpleImputer(strategy='most_frequent')), ('onehotencoder', OneHotEncoder(handle_unknown='ignore', sparse=False))], 'columntransformer__pipeline-2__verbose': False, 'columntransformer__pipeline-2__simpleimputer': SimpleImputer(strategy='most_frequent'), 'columntransformer__pipeline-2__onehotencoder': OneHotEncoder(handle_unknown='ignore', sparse=False), 'columntransformer__pipeline-2__simpleimputer__add_indicator': False, 'columntransformer__pipeline-2__simpleimputer__copy': True, 'columntransformer__pipeline-2__simpleimputer__fill_value': None, 'columntransformer__pipeline-2__simpleimputer__missing_values': nan, 'columntransformer__pipeline-2__simpleimputer__strategy': 'most_frequent', 'columntransformer__pipeline-2__simpleimputer__verbose': 0, 'columntransformer__pipeline-2__onehotencoder__categories': 'auto', 'columntransformer__pipeline-2__onehotencoder__drop': None, 'columntransformer__pipeline-2__onehotencoder__dtype': <class 'numpy.float64'>, 'columntransformer__pipeline-2__onehotencoder__handle_unknown': 'ignore', 'columntransformer__pipeline-2__onehotencoder__sparse': False, 'baggingclassifier__base_estimator': None, 'baggingclassifier__bootstrap': True, 'baggingclassifier__bootstrap_features': False, 'baggingclassifier__max_features': 1.0, 'baggingclassifier__max_samples': 1.0, 'baggingclassifier__n_estimators': 10, 'baggingclassifier__n_jobs': None, 'baggingclassifier__oob_score': False, 'baggingclassifier__random_state': 0, 'baggingclassifier__verbose': 0, 'baggingclassifier__warm_start': False}\n"
          ]
        }
      ]
    },
    {
      "cell_type": "code",
      "source": [
        "# Instantiate the model according to the best hyperparameters\n",
        "bg = BaggingClassifier(n_estimators=10, random_state=0) \n",
        "\n",
        "# Instantiate the pipeline with the model\n",
        "bg_pipe = make_pipeline(column_transformer, bg)\n",
        "\n",
        "# Train the model\n",
        "bg_pipe.fit(X_train, y_train)\n",
        "\n",
        "# Get the model accuracy\n",
        "model_train = bg_pipe.score(X_train, y_train) \n",
        "model_test = bg_pipe.score(X_test, y_test)\n",
        "\n",
        "# Create test predictions\n",
        "bg_pipe_pred = bg_pipe.predict(X_test)\n",
        "\n",
        "# Show the results\n",
        "print(f'Train Accuracy: {model_train:.3f}')\n",
        "print(f'Test Accuracy: {model_test:.3f}')"
      ],
      "metadata": {
        "colab": {
          "base_uri": "https://localhost:8080/"
        },
        "id": "ZDZ_3e2-yg7Q",
        "outputId": "e876854c-d472-4e30-9e79-51effa8e7678"
      },
      "execution_count": 163,
      "outputs": [
        {
          "output_type": "stream",
          "name": "stdout",
          "text": [
            "Train Accuracy: 0.986\n",
            "Test Accuracy: 0.986\n"
          ]
        }
      ]
    },
    {
      "cell_type": "code",
      "source": [
        "# Train confusion matrix\n",
        "plot_confusion_matrix(bg_pipe, X_train, y_train, cmap = 'Blues');"
      ],
      "metadata": {
        "colab": {
          "base_uri": "https://localhost:8080/",
          "height": 373
        },
        "id": "tLWe1lKQ40Np",
        "outputId": "63ccd399-e9f4-4e4d-cba7-35a097b5a118"
      },
      "execution_count": 166,
      "outputs": [
        {
          "output_type": "stream",
          "name": "stderr",
          "text": [
            "/usr/local/lib/python3.7/dist-packages/sklearn/utils/deprecation.py:87: FutureWarning:\n",
            "\n",
            "Function plot_confusion_matrix is deprecated; Function `plot_confusion_matrix` is deprecated in 1.0 and will be removed in 1.2. Use one of the class methods: ConfusionMatrixDisplay.from_predictions or ConfusionMatrixDisplay.from_estimator.\n",
            "\n"
          ]
        },
        {
          "output_type": "display_data",
          "data": {
            "image/png": "[encoded data removed]",
            "text/plain": [
              "<Figure size 432x288 with 2 Axes>"
            ]
          },
          "metadata": {
            "needs_background": "light"
          }
        }
      ]
    },
    {
      "cell_type": "code",
      "source": [
        "# Test confusion matrix\n",
        "plot_confusion_matrix(bg_pipe, X_test, y_test, cmap = 'Blues');"
      ],
      "metadata": {
        "colab": {
          "base_uri": "https://localhost:8080/",
          "height": 373
        },
        "id": "tjZfv4uj45Kq",
        "outputId": "42e73d22-2026-47cc-d5bd-14c8c72d5d05"
      },
      "execution_count": 167,
      "outputs": [
        {
          "output_type": "stream",
          "name": "stderr",
          "text": [
            "/usr/local/lib/python3.7/dist-packages/sklearn/utils/deprecation.py:87: FutureWarning:\n",
            "\n",
            "Function plot_confusion_matrix is deprecated; Function `plot_confusion_matrix` is deprecated in 1.0 and will be removed in 1.2. Use one of the class methods: ConfusionMatrixDisplay.from_predictions or ConfusionMatrixDisplay.from_estimator.\n",
            "\n"
          ]
        },
        {
          "output_type": "display_data",
          "data": {
            "image/png": "[encoded data removed]",
            "text/plain": [
              "<Figure size 432x288 with 2 Axes>"
            ]
          },
          "metadata": {
            "needs_background": "light"
          }
        }
      ]
    },
    {
      "cell_type": "code",
      "source": [
        "# Calculate the confusion matrix\n",
        "confusion_test = confusion_matrix(y_test, bg_pipe_pred)\n",
        "\n",
        "TP = confusion_test[1,1] # true positive \n",
        "TN = confusion_test[0,0] # true negatives\n",
        "FP = confusion_test[0,1] # false positives\n",
        "FN = confusion_test[1,0] # false negatives\n",
        "\n",
        "# Calculate the metrics\n",
        "sensitivity = TP / float(TP+FN)\n",
        "specificity = TN / float(TN+FP)\n",
        "\n",
        "# Print the metrics\n",
        "print(f'Test sensitivity = {sensitivity:.3f}')\n",
        "print(f'Test specificity = {specificity:.3f}')"
      ],
      "metadata": {
        "colab": {
          "base_uri": "https://localhost:8080/"
        },
        "id": "Uf_zWInS5EVx",
        "outputId": "abe189b1-30a1-4f8e-dc42-8e761feb61d5"
      },
      "execution_count": 168,
      "outputs": [
        {
          "output_type": "stream",
          "name": "stdout",
          "text": [
            "Test sensitivity = 0.973\n",
            "Test specificity = 1.000\n"
          ]
        }
      ]
    },
    {
      "cell_type": "code",
      "source": [
        "# visualize ROC curve for training\n",
        "plot_roc_curve(bg_pipe, X_train, y_train)\n",
        "plt.plot([0, 1], [0, 1], ls = '--', label = 'Baseline (AUC = 0.5)')\n",
        "plt.legend();"
      ],
      "metadata": {
        "colab": {
          "base_uri": "https://localhost:8080/",
          "height": 353
        },
        "id": "pK7Kg4125LFC",
        "outputId": "69230ed9-c258-4f98-ef7f-f3bc6376456a"
      },
      "execution_count": 169,
      "outputs": [
        {
          "output_type": "stream",
          "name": "stderr",
          "text": [
            "/usr/local/lib/python3.7/dist-packages/sklearn/utils/deprecation.py:87: FutureWarning:\n",
            "\n",
            "Function plot_roc_curve is deprecated; Function `plot_roc_curve` is deprecated in 1.0 and will be removed in 1.2. Use one of the class methods: RocCurveDisplay.from_predictions or RocCurveDisplay.from_estimator.\n",
            "\n"
          ]
        },
        {
          "output_type": "display_data",
          "data": {
            "image/png": "[encoded data removed]",
            "text/plain": [
              "<Figure size 432x288 with 1 Axes>"
            ]
          },
          "metadata": {
            "needs_background": "light"
          }
        }
      ]
    },
    {
      "cell_type": "code",
      "source": [
        "# visualize ROC curve for testing\n",
        "plot_roc_curve(bg_pipe, X_test, y_test)\n",
        "plt.plot([0, 1], [0, 1], ls = '--', label = 'Baseline (AUC = 0.5)')\n",
        "plt.legend();"
      ],
      "metadata": {
        "colab": {
          "base_uri": "https://localhost:8080/",
          "height": 353
        },
        "id": "8WAWwgXh5SfI",
        "outputId": "72b34513-22b9-43fc-bbde-54b6a75fe738"
      },
      "execution_count": 170,
      "outputs": [
        {
          "output_type": "stream",
          "name": "stderr",
          "text": [
            "/usr/local/lib/python3.7/dist-packages/sklearn/utils/deprecation.py:87: FutureWarning:\n",
            "\n",
            "Function plot_roc_curve is deprecated; Function `plot_roc_curve` is deprecated in 1.0 and will be removed in 1.2. Use one of the class methods: RocCurveDisplay.from_predictions or RocCurveDisplay.from_estimator.\n",
            "\n"
          ]
        },
        {
          "output_type": "display_data",
          "data": {
            "image/png": "[encoded data removed]",
            "text/plain": [
              "<Figure size 432x288 with 1 Axes>"
            ]
          },
          "metadata": {
            "needs_background": "light"
          }
        }
      ]
    },
    {
      "cell_type": "markdown",
      "source": [
        "# Best Model"
      ],
      "metadata": {
        "id": "nE9Hnrqz5v2h"
      }
    },
    {
      "cell_type": "markdown",
      "source": [
        "The best optimized model for this data is the Decision Tree Classifier with better score for all the metrics specially accuracy. Additionally, it also has an almost perfect prediction for the test set and a perfect prediction for the train set."
      ],
      "metadata": {
        "id": "0soRG0455yZz"
      }
    }
  ]
}